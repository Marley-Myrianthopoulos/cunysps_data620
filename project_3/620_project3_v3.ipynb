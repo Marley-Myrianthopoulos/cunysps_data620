{
 "cells": [
  {
   "cell_type": "code",
   "execution_count": 29,
   "metadata": {},
   "outputs": [],
   "source": [
    "# Import required libraries and data\n",
    "import nltk\n",
    "import pandas as pd\n",
    "from nltk.corpus import names\n",
    "import random\n",
    "\n",
    "random.seed(1989)\n",
    "\n",
    "names = ([(name, 'male') for name in names.words('male.txt')] + \n",
    "         [(name, 'female') for name in names.words('female.txt')])\n",
    "random.shuffle(names)"
   ]
  },
  {
   "cell_type": "code",
   "execution_count": 30,
   "metadata": {},
   "outputs": [
    {
     "name": "stdout",
     "output_type": "stream",
     "text": [
      "500\n",
      "7444\n"
     ]
    }
   ],
   "source": [
    "# Create test-train split\n",
    "test_names = names[:500]\n",
    "trainset_names = names[500:]\n",
    "#AT THE END!\n",
    "#test_featuresets = [(gender_features_iter_?(n), g) for (n,g) in test_names]\n",
    "\n",
    "print(len(test_names))\n",
    "print(len(trainset_names))"
   ]
  },
  {
   "cell_type": "code",
   "execution_count": 31,
   "metadata": {},
   "outputs": [],
   "source": [
    "# Define the features for the first classifier\n",
    "def gender_features_iter_1(word):\n",
    "    return {'last_letter': word[-1]}"
   ]
  },
  {
   "cell_type": "code",
   "execution_count": 32,
   "metadata": {},
   "outputs": [],
   "source": [
    "# Wrap the necessary code in a function\n",
    "\n",
    "def names_model_test(gender_features_func):\n",
    "    # Create devtest and training set split\n",
    "    random.shuffle(trainset_names)\n",
    "    devtest_names = trainset_names[:500]\n",
    "    train_names = trainset_names[500:]\n",
    "    devtest_featuresets = [(gender_features_func(n), g) for (n,g) in devtest_names]\n",
    "    train_featuresets = [(gender_features_func(n), g) for (n,g) in train_names]\n",
    "    \n",
    "    # Train the classifier on the training set and print the accuracy\n",
    "    global model \n",
    "    model = nltk.MaxentClassifier.train(train_featuresets, max_iter = 20)\n",
    "    print('Model Accuracy:', nltk.classify.accuracy(model, devtest_featuresets))\n",
    "\n",
    "    # Create list of devtest errors from iteration\n",
    "    errors_name = []\n",
    "    errors_tag = []\n",
    "    errors_guess = []\n",
    "    \n",
    "    for (name, tag) in devtest_names:\n",
    "        guess = model.classify(gender_features_func(name))\n",
    "        if guess != tag:\n",
    "            errors_name.append(name)\n",
    "            errors_tag.append(tag)\n",
    "            errors_guess.append(guess)\n",
    "    \n",
    "    # Create DataFrame of errors\n",
    "    errors_df = pd.DataFrame({'name': errors_name,\n",
    "                              'tag': errors_tag,\n",
    "                              'guess': errors_guess})\n",
    "    \n",
    "    # Print male errors\n",
    "    print('Male Errors:',\n",
    "          errors_df[errors_df.tag == 'male']['name'].tolist())\n",
    "    \n",
    "    # Print female errors\n",
    "    print('Female Errors: ',\n",
    "          errors_df[errors_df.tag == 'female']['name'].tolist())\n"
   ]
  },
  {
   "cell_type": "code",
   "execution_count": 33,
   "metadata": {},
   "outputs": [
    {
     "name": "stdout",
     "output_type": "stream",
     "text": [
      "  ==> Training (20 iterations)\n",
      "\n",
      "      Iteration    Log Likelihood    Accuracy\n",
      "      ---------------------------------------\n",
      "             1          -0.69315        0.371\n",
      "             2          -0.37427        0.761\n",
      "             3          -0.37386        0.761\n",
      "             4          -0.37360        0.761\n",
      "             5          -0.37344        0.761\n",
      "             6          -0.37332        0.761\n",
      "             7          -0.37323        0.761\n",
      "             8          -0.37316        0.761\n",
      "             9          -0.37310        0.761\n",
      "            10          -0.37306        0.761\n",
      "            11          -0.37302        0.761\n",
      "            12          -0.37299        0.761\n",
      "            13          -0.37296        0.761\n",
      "            14          -0.37294        0.761\n",
      "            15          -0.37291        0.761\n",
      "            16          -0.37290        0.761\n",
      "            17          -0.37288        0.761\n",
      "            18          -0.37286        0.761\n",
      "            19          -0.37285        0.761\n",
      "         Final          -0.37284        0.761\n",
      "Model Accuracy: 0.752\n",
      "Male Errors: ['Benny', 'Arne', 'Welch', 'Whitney', 'Filipe', 'Jonny', 'Wolfie', 'Ignace', 'Scotty', 'Joseph', 'Stanley', 'Nate', 'Welby', 'Tremayne', 'Verney', 'Heinrich', 'Tabbie', 'Dwaine', 'Bubba', 'Jamie', 'Arie', 'Nikita', 'Tore', 'Roddy', 'Neville', 'Deane', 'Lesley', 'Willi', 'Cole', 'Wallache', 'Augie', 'Rustie', 'Jerri', 'Bobbie', 'Josiah', 'Rodge', 'Cody', 'Pace', 'Chaddy', 'Davy', 'Baillie', 'Tannie', 'Meade', 'Reggy', 'Woody', 'Charlie', 'Joshuah', 'Enrique', 'Lanny', 'Micky', 'Peirce', 'Jeromy', 'Arvie', 'Emile', 'Fonzie', 'Grady', 'Hari', 'Micah', 'Yankee', 'Tracey', 'Jeffry', 'Bernie', 'Moise', 'Timmie', 'Barri', 'Guthrie', 'Abby', 'Sky']\n",
      "Female Errors:  ['Carol', 'Aleen', 'Mehetabel', 'Annabell', 'Ingeborg', 'Gael', 'Gertrudis', 'Alison', 'Kristen', 'Lauryn', 'Marin', 'Astrid', 'Brit', 'Ailyn', 'Meriel', 'Lil', 'Phyllys', 'Merrill', 'Berget', 'Cris', 'Lilyan', 'Rosabel', 'Carlen', 'Gabriell', 'Margaux', 'Anet', 'Pegeen', 'Maryjo', 'Dyann', 'Shirl', 'Pam', 'Hedwig', 'Chris', 'Avrit', 'Christen', 'Michal', 'Ayn', 'Scarlet', 'Eden', 'Darryl', 'Doreen', 'Maribel', 'Averyl', 'Sibeal', 'Rozalin', 'Margot', 'Velvet', 'Gill', 'Beatriz', 'Sheila-Kathryn', 'Marj', 'Umeko', 'Charo', 'Row', 'Storm', 'Cathleen']\n"
     ]
    }
   ],
   "source": [
    "names_model_test(gender_features_iter_1)"
   ]
  },
  {
   "cell_type": "code",
   "execution_count": 34,
   "metadata": {},
   "outputs": [
    {
     "name": "stdout",
     "output_type": "stream",
     "text": [
      "  ==> Training (20 iterations)\n",
      "\n",
      "      Iteration    Log Likelihood    Accuracy\n",
      "      ---------------------------------------\n",
      "             1          -0.69315        0.368\n",
      "             2          -0.43199        0.760\n",
      "             3          -0.38678        0.780\n",
      "             4          -0.36920        0.782\n",
      "             5          -0.36092        0.780\n",
      "             6          -0.35656        0.783\n",
      "             7          -0.35410        0.783\n",
      "             8          -0.35262        0.784\n",
      "             9          -0.35169        0.784\n",
      "            10          -0.35108        0.784\n",
      "            11          -0.35067        0.784\n",
      "            12          -0.35037        0.784\n",
      "            13          -0.35016        0.784\n",
      "            14          -0.35000        0.784\n",
      "            15          -0.34987        0.784\n",
      "            16          -0.34978        0.784\n",
      "            17          -0.34970        0.784\n",
      "            18          -0.34964        0.784\n",
      "            19          -0.34959        0.784\n",
      "         Final          -0.34955        0.784\n",
      "Model Accuracy: 0.752\n",
      "Male Errors: ['Deryl', 'Barnaby', 'Ashish', 'Montague', 'Solly', 'Dimitry', 'Barty', 'French', 'Michale', 'Price', 'Linoel', 'Clarance', 'Thorpe', 'Murphy', 'Case', 'Natale', 'Marion', 'Garcia', 'Baily', 'Butch', 'Selby', 'Dale', 'Corwin', 'Chevy', 'Danie', 'Siffre', 'Charlton', 'Cyril', 'Allie', 'Chancey', 'Chrissy', 'Roice', 'Bobby', 'Arnie', 'Rene', 'Rube', 'Isidore', 'Nevile', 'Clemmie', 'Lindy', 'Tommie', 'Cobbie', 'Len', 'Garvy', 'Joshuah', 'Jamey', 'Jory', 'Demetri', 'Dan', 'Pascale', 'Chase', 'Carroll', 'Giffy', 'Mohan', 'Claude', 'Jefferson', 'Ossie', 'Micheil', 'Osborne', 'Teddie', 'Herculie', 'Daren', 'Henrie', 'Emery', 'Carlyle', 'Benny', 'Clare', 'Josh', 'Germaine', 'Vinnie', 'Matty', 'Ravi', 'Carmine', 'Sasha', 'Jae', 'Layton', 'Davidde', 'Gregory', 'Yule', 'Dante', 'Kyle', 'Jeramie']\n",
      "Female Errors:  ['Brigid', 'Raychel', 'Chad', 'Brier', 'Rosamund', 'Marget', 'Abigael', 'Joyous', 'Raquel', 'Blondell', 'Bette-Ann', 'Sibeal', 'Hilliary', 'Alex', 'Norean', 'Bliss', 'Siobhan', 'Heather', 'Ayn', 'Babs', 'Clio', 'Holly', 'Hannis', 'Sallyann', 'Fred', 'Scarlet', 'Ricky', 'Tobey', 'Glynis', 'Robinet', 'Sibel', 'Tim', 'Linnet', 'Calypso', 'Iseabal', 'Tiphany', 'Shaun', 'Polly', 'Gertrud', 'Clem', 'Tally', 'Ingeberg']\n"
     ]
    }
   ],
   "source": [
    "def gender_features_iter_2(word):\n",
    "    return {'first_letter': word[0].lower(),\n",
    "            'last_letter': word[-1]}\n",
    "\n",
    "names_model_test(gender_features_iter_2)"
   ]
  },
  {
   "cell_type": "code",
   "execution_count": 35,
   "metadata": {},
   "outputs": [
    {
     "name": "stdout",
     "output_type": "stream",
     "text": [
      "  ==> Training (20 iterations)\n",
      "\n",
      "      Iteration    Log Likelihood    Accuracy\n",
      "      ---------------------------------------\n",
      "             1          -0.69315        0.369\n",
      "             2          -0.44756        0.751\n",
      "             3          -0.40374        0.769\n",
      "             4          -0.38703        0.765\n",
      "             5          -0.37956        0.765\n",
      "             6          -0.37590        0.765\n",
      "             7          -0.37399        0.765\n",
      "             8          -0.37294        0.765\n",
      "             9          -0.37233        0.765\n",
      "            10          -0.37196        0.765\n",
      "            11          -0.37171        0.768\n",
      "            12          -0.37155        0.768\n",
      "            13          -0.37143        0.768\n",
      "            14          -0.37133        0.768\n",
      "            15          -0.37126        0.768\n",
      "            16          -0.37121        0.768\n",
      "            17          -0.37116        0.768\n",
      "            18          -0.37112        0.768\n",
      "            19          -0.37108        0.768\n",
      "         Final          -0.37105        0.768\n",
      "Model Accuracy: 0.756\n",
      "Male Errors: ['Ajai', 'Sydney', 'Carlton', 'Wallache', 'Willie', 'Dmitri', 'Paddie', 'Ashish', 'Hersch', 'Barri', 'Barclay', 'Zollie', 'Skipton', 'Chrisy', 'Dickie', 'Shelden', 'Freemon', 'Kory', 'Spence', 'Lindsay', 'Burnaby', 'Zacharie', 'Myke', 'Nikolai', 'Bartie', 'Friedrich', 'Nathanial', 'Duane', 'Geri', 'Chrissy', 'Sheffie', 'Anthony', 'Demetri', 'Riley', 'Uri', 'Bay', 'Immanuel', 'Deane', 'Jeremy', 'Quincey', 'Matty', 'Laurance', 'Murphy', 'Jay', 'Billie', 'Natale', 'Grady', 'Nichole', 'Torey', 'Lindsey', 'Levy', 'Brooke', 'Dickey', 'Franklyn', 'Dwayne', 'Benjamen', 'Terrill', 'Purcell', 'Ike', 'Ikey', 'Giovanni', 'Sinclare', 'Thurstan', 'Jerome', 'Erny', 'Tonnie', 'Isaiah', 'Rabbi', 'Morse', 'Smith', 'Ricki', 'Vaughan', 'Sherwin', 'Bucky', 'Jule', 'Montgomery']\n",
      "Female Errors:  ['Sioux', 'Mabel', 'Wandis', 'Janifer', 'Coriss', 'Joan', 'Janeen', 'Noreen', 'Kaylyn', 'Doreen', 'Chloris', 'Grier', 'Denys', 'Morgen', 'Carin', 'Theo', 'Bel', 'Rosamond', 'Milissent', 'Carrol', 'Idell', 'Shirl', 'Shaun', 'Ingrid', 'Estell', 'Darb', 'Carmen', 'Ardelis', 'Honor', 'Rozamond', 'Jolynn', 'Pen', 'Isobel', 'Mag', 'Gladis', 'Regan', 'Karel', 'Cat', 'Linnet', 'Aryn', 'Cloris', 'Jewell', 'Glynnis', 'Madlen', 'Maegan', 'Arleen']\n"
     ]
    }
   ],
   "source": [
    "def gender_features_iter_3(word):\n",
    "    return {'last_letter': word[-1],\n",
    "            'length_of_name': len(word)}\n",
    "\n",
    "names_model_test(gender_features_iter_3)"
   ]
  },
  {
   "cell_type": "code",
   "execution_count": 36,
   "metadata": {},
   "outputs": [
    {
     "name": "stdout",
     "output_type": "stream",
     "text": [
      "  ==> Training (20 iterations)\n",
      "\n",
      "      Iteration    Log Likelihood    Accuracy\n",
      "      ---------------------------------------\n",
      "             1          -0.69315        0.371\n",
      "             2          -0.48096        0.731\n",
      "             3          -0.42465        0.772\n",
      "             4          -0.39682        0.774\n",
      "             5          -0.38141        0.778\n",
      "             6          -0.37210        0.778\n",
      "             7          -0.36613        0.780\n",
      "             8          -0.36213        0.780\n",
      "             9          -0.35936        0.781\n",
      "            10          -0.35740        0.781\n",
      "            11          -0.35598        0.781\n",
      "            12          -0.35492        0.782\n",
      "            13          -0.35413        0.782\n",
      "            14          -0.35353        0.782\n",
      "            15          -0.35306        0.781\n",
      "            16          -0.35269        0.781\n",
      "            17          -0.35239        0.781\n",
      "            18          -0.35215        0.781\n",
      "            19          -0.35196        0.780\n",
      "         Final          -0.35180        0.780\n",
      "Model Accuracy: 0.792\n",
      "Male Errors: ['Rutledge', 'Vinny', 'Vite', 'Rodolphe', 'Johnnie', 'Spense', 'Tremayne', 'Daryl', 'Jerrome', 'Emery', 'Stearne', 'Ave', 'Uli', 'Carlie', 'Meryl', 'Nicky', 'Terence', 'Jephthah', 'Merrill', 'Michale', 'Rodolph', 'Roderich', 'Conroy', 'Nichole', 'Frederich', 'Lance', 'Laurance', 'Clemente', 'Clyde', 'Connie', 'Dwaine', 'Louie', 'Stanleigh', 'Barry', 'Eddie', 'Carmine', 'Georgia', 'Joshua', 'Immanuel', 'Vale', 'Carsten', 'Aristotle', 'Rourke', 'Calvin', 'Adlai', 'Mikhail', 'Chelton', 'Nathaniel', 'Bealle', 'Olle', 'Bertie', 'Jamie', 'Cobbie', 'Mendel', 'Durante', 'Logan', 'Augie', 'Fletch', 'Saxe', 'Chrisy', 'Kelly']\n",
      "Female Errors:  ['Sinead', 'Pauly', 'Danit', 'Mab', 'Frances', 'Haley', 'Marlo', 'Lind', 'Cass', 'Hatty', 'Robby', 'Phillis', 'Shawn', 'Holly', 'Dyann', 'Marylou', 'Sybyl', 'Aimil', 'Tracey', 'Stormy', 'Hester', 'Rhianon', 'Elyn', 'Dion', 'Clo', 'Sigrid', 'Alisun', 'Ginnifer', 'Hilliary', 'Sara-Ann', 'Margret', 'Fawn', 'Ruby', 'Angel', 'Scarlet', 'Sally', 'Joleen', 'Marget', 'Tess', 'Nert', 'Bidget', 'Shell', 'Tracy']\n"
     ]
    }
   ],
   "source": [
    "def gender_features_iter_4(word):\n",
    "    return {'first_letter': word[0].lower(),\n",
    "            'last_letter': word[-1],\n",
    "            'length_of_name': len(word)}\n",
    "\n",
    "names_model_test(gender_features_iter_4)"
   ]
  },
  {
   "cell_type": "code",
   "execution_count": 37,
   "metadata": {},
   "outputs": [
    {
     "name": "stdout",
     "output_type": "stream",
     "text": [
      "  ==> Training (20 iterations)\n",
      "\n",
      "      Iteration    Log Likelihood    Accuracy\n",
      "      ---------------------------------------\n",
      "             1          -0.69315        0.370\n",
      "             2          -0.50703        0.699\n",
      "             3          -0.44844        0.768\n",
      "             4          -0.41483        0.780\n",
      "             5          -0.39438        0.782\n",
      "             6          -0.38115        0.786\n",
      "             7          -0.37216        0.787\n",
      "             8          -0.36581        0.787\n",
      "             9          -0.36119        0.787\n",
      "            10          -0.35774        0.788\n",
      "            11          -0.35513        0.788\n",
      "            12          -0.35311        0.787\n",
      "            13          -0.35153        0.787\n",
      "            14          -0.35029        0.787\n",
      "            15          -0.34929        0.787\n",
      "            16          -0.34848        0.788\n",
      "            17          -0.34783        0.788\n",
      "            18          -0.34729        0.788\n",
      "            19          -0.34684        0.788\n",
      "         Final          -0.34647        0.788\n",
      "Model Accuracy: 0.776\n",
      "Male Errors: ['Kenneth', 'Aristotle', 'Mose', 'Dante', 'Michael', 'Cyrill', 'Dudley', 'Jerzy', 'Bartolomei', 'Brinkley', 'Barri', 'Lanny', 'Churchill', 'Chaddie', 'Marshall', 'Harry', 'Benjy', 'Mortie', 'Tre', 'Kristos', 'Joe', 'Calvin', 'Rourke', 'Hari', 'Lawerence', 'Andy', 'Chancey', 'Clarence', 'Mitchel', 'Vasili', 'Klee', 'Tarrance', 'Lowell', 'Leighton', 'Giffy', 'Mitch', 'Roddie', 'Cammy', 'Darrel', 'Nealy', 'Bertie', 'Danny', 'Corey', 'Roscoe', 'Isaiah', 'Sully', 'Curtice', 'Kenny', 'Avery', 'Tallie', 'Randolph', 'Allie', 'Leslie', 'Clifton', 'Irvine', 'Merry', 'Sollie', 'Addie', 'Dougie', 'Germaine', 'Donnie', 'Willie', 'Manny', 'Timothee', 'Darrell', 'Luce', 'Kimball']\n",
      "Female Errors:  ['Birgit', 'Bryn', 'Gillan', 'Easter', 'Margot', 'Fern', 'Marys', 'Wilone', 'Dyan', 'Ingrid', 'Lynett', 'Renell', 'Hedy', 'Averil', 'Lyndel', 'Ag', 'Chris', 'Rianon', 'Raquel', 'Sean', 'Shirah', 'Viv', 'Leland', 'Wilow', 'Madel', 'Joslyn', 'Mead', 'Marlyn', 'Suzann', 'Regan', 'Joycelin', 'Linnet', 'Opal', 'Pris', 'Laurel', 'Sukey', 'Gertrud', 'Calypso', 'Adrien', 'Quentin', 'Storey', 'Jasmin', 'Sheila-Kathryn', 'Abigael', 'Kaster']\n"
     ]
    }
   ],
   "source": [
    "def double_letter_check(word):\n",
    "    for i in range(len(word) - 1):\n",
    "        if word[i] == word[i + 1]:\n",
    "            return(True)\n",
    "    return(False)\n",
    "\n",
    "def gender_features_iter_5(word):\n",
    "    return {'first_letter': word[0].lower(),\n",
    "            'last_letter': word[-1],\n",
    "            'length_of_name': len(word),\n",
    "            'contains_double': double_letter_check(word)}\n",
    "\n",
    "names_model_test(gender_features_iter_5)"
   ]
  },
  {
   "cell_type": "code",
   "execution_count": 38,
   "metadata": {},
   "outputs": [
    {
     "name": "stdout",
     "output_type": "stream",
     "text": [
      "  ==> Training (20 iterations)\n",
      "\n",
      "      Iteration    Log Likelihood    Accuracy\n",
      "      ---------------------------------------\n",
      "             1          -0.69315        0.370\n",
      "             2          -0.45998        0.755\n",
      "             3          -0.39830        0.803\n",
      "             4          -0.36733        0.814\n",
      "             5          -0.34934        0.817\n",
      "             6          -0.33777        0.817\n",
      "             7          -0.32977        0.819\n",
      "             8          -0.32396        0.820\n",
      "             9          -0.31955        0.821\n",
      "            10          -0.31611        0.821\n",
      "            11          -0.31333        0.820\n",
      "            12          -0.31105        0.821\n",
      "            13          -0.30912        0.821\n",
      "            14          -0.30748        0.822\n",
      "            15          -0.30605        0.822\n",
      "            16          -0.30480        0.822\n",
      "            17          -0.30369        0.822\n",
      "            18          -0.30269        0.821\n",
      "            19          -0.30179        0.821\n",
      "         Final          -0.30097        0.821\n",
      "Model Accuracy: 0.774\n",
      "Male Errors: ['Yehudi', 'Emory', 'Michel', 'Geri', 'Benny', 'Michael', 'Keith', 'Loren', 'Ferdie', 'Brook', 'Merril', 'Kit', 'Brandy', 'Jere', 'Daryl', 'Bennie', 'Jeremy', 'Pascale', 'Andrea', 'Noble', 'Reza', 'Aziz', 'Dana', 'Kenneth', 'Montague', 'Benji', 'Jephthah', 'Chance', 'Norris', 'Arel', 'Rusty', 'Odie', 'Phillipe', 'Douglis', 'Lanny', 'Gustavo', 'Uli', 'Alley', 'Lefty', 'Arie', 'Sloane', 'Keil', 'Phillipp', 'Mitchel', 'Jimmy', 'Ely', 'Andonis', 'Emmy', 'Aleks', 'Deryl', 'Nicky', 'Eugen', 'Julie', 'Nathaniel', 'Thane', 'Cole', 'Louis', 'Luigi', 'Skelly', 'Alfonse', 'Alden', 'Tye', 'Ira', 'Fonsie']\n",
      "Female Errors:  ['Shelby', 'Rosalind', 'Jenifer', 'Justin', 'Veronike', 'Joyous', 'Rahal', 'Bert', 'Winnah', 'Dion', 'Tim', 'Dyan', 'Flo', 'Robin', 'Lilas', 'Shay', 'Meg', 'Tess', 'Kat', 'Tony', 'Lou', 'Harley', 'Rhody', 'Jonell', 'Janifer', 'Lind', 'Ruthy', 'Philis', 'Jan', 'Donnajean', 'Mellicent', 'Hilliary', 'Tiffy', 'Rozamond', 'Blake', 'Leanor', 'Grier', 'Windy', 'Pam', 'Piper', 'Zorah', 'Mab', 'Dorian', 'Helge', 'George', 'Berry', 'Glory', 'Brooke', 'Hedy']\n"
     ]
    }
   ],
   "source": [
    "def gender_features_iter_6(word):\n",
    "    return {'first_letter': word[0].lower(),\n",
    "            'last_two_letters': word[-2:],\n",
    "            'length_of_name': len(word)}\n",
    "\n",
    "names_model_test(gender_features_iter_6)"
   ]
  },
  {
   "cell_type": "code",
   "execution_count": 39,
   "metadata": {},
   "outputs": [
    {
     "name": "stdout",
     "output_type": "stream",
     "text": [
      "  ==> Training (20 iterations)\n",
      "\n",
      "      Iteration    Log Likelihood    Accuracy\n",
      "      ---------------------------------------\n",
      "             1          -0.69315        0.370\n",
      "             2          -0.47729        0.727\n",
      "             3          -0.43051        0.777\n",
      "             4          -0.40564        0.778\n",
      "             5          -0.39030        0.780\n",
      "             6          -0.38009        0.783\n",
      "             7          -0.37295        0.782\n",
      "             8          -0.36780        0.782\n",
      "             9          -0.36399        0.782\n",
      "            10          -0.36110        0.783\n",
      "            11          -0.35889        0.782\n",
      "            12          -0.35716        0.781\n",
      "            13          -0.35580        0.781\n",
      "            14          -0.35471        0.781\n",
      "            15          -0.35384        0.781\n",
      "            16          -0.35313        0.781\n",
      "            17          -0.35254        0.781\n",
      "            18          -0.35206        0.781\n",
      "            19          -0.35166        0.781\n",
      "         Final          -0.35133        0.781\n",
      "Model Accuracy: 0.774\n",
      "Male Errors: ['Lazare', 'Lonnie', 'Germaine', 'Lefty', 'Bennie', 'Reube', 'Lemuel', 'Sergei', 'Fonzie', 'Donny', 'Tye', 'Barri', 'Connie', 'Michail', 'Emerson', 'Sheffie', 'Lanny', 'Curtice', 'Nichole', 'Maurise', 'Casey', 'Granville', 'Calvin', 'Kenny', 'Billie', 'Sansone', 'Clarance', 'Sayre', 'Odie', 'Uli', 'Guillaume', 'Kellen', 'Torrance', 'Corwin', 'Hercule', 'Carsten', 'Jay', 'Davidde', 'Yehudi', 'Tonnie', 'Yancey', 'Skye', 'Rodolph', 'Bailey', 'Gordie', 'Monty', 'Godfrey', 'Munroe', 'Barney', 'Isidore', 'Bartie', 'Cody', 'Sollie', 'Alexei', 'Angie', 'Yankee', 'Charlie', 'Tate', 'Lindy', 'Nathanial', 'Jean-Francois', 'Clarence', 'Arie', 'Lance', 'Barnie', 'Barth', 'Steve']\n",
      "Female Errors:  ['Ruthy', 'Ellyn', 'Kris', 'Fawn', 'Happy', 'Suzann', 'Angil', 'Wynn', 'Min', 'Marlo', 'Zorah', 'Robinett', 'Lillis', 'Vivian', 'Helen', 'Ethel', 'Olwen', 'Gates', 'Joyous', 'Eryn', 'Ruby', 'Winnie', 'Jenifer', 'Bert', 'Ester', 'Chris', 'Tim', 'Trudy', 'Teriann', 'Caro', 'Bird', 'Phyllys', 'Francis', 'Wilmette', 'Delores', 'Gaynor', 'Marijo', 'Danit', 'Evelyn', 'Stacey', 'Sibley', 'Lois', 'Tarah', 'Brett', 'Joann', 'Anett']\n"
     ]
    }
   ],
   "source": [
    "# Define a function that checks if a word contains a feminized ending\n",
    "def feminine_ending(word):\n",
    "    if word[-3:] == 'ina' or word[-2:] == 'ia' or word[-1] == 'a' or word[-3:] == 'lly':\n",
    "        return True\n",
    "    return False\n",
    "\n",
    "# Define the features for the seventh classifier\n",
    "def gender_features_iter_7(word):\n",
    "    return {'first_letter': word[0].lower(),\n",
    "            'last_letter': word[-1],\n",
    "            'length_of_name': len(word),\n",
    "            'feminine_ending': feminine_ending(word)}\n",
    "\n",
    "names_model_test(gender_features_iter_7)\n"
   ]
  },
  {
   "cell_type": "code",
   "execution_count": 40,
   "metadata": {},
   "outputs": [
    {
     "name": "stdout",
     "output_type": "stream",
     "text": [
      "  Feature                                             male  female\n",
      "  ----------------------------------------------------------------\n",
      "  first_letter=='r' (1)                              0.178\n",
      "  last_letter=='y' (1)                              -0.114\n",
      "  feminine_ending==False (1)                         0.039\n",
      "  length_of_name==5 (1)                              0.015\n",
      "  first_letter=='r' (1)                                     -0.127\n",
      "  last_letter=='y' (1)                                       0.093\n",
      "  feminine_ending==False (1)                                -0.030\n",
      "  length_of_name==5 (1)                                      0.016\n",
      "  -----------------------------------------------------------------\n",
      "  TOTAL:                                             0.118  -0.049\n",
      "  PROBS:                                             0.529   0.471\n"
     ]
    }
   ],
   "source": [
    "model.explain(gender_features_iter_7('Ruthy'))"
   ]
  },
  {
   "cell_type": "code",
   "execution_count": 41,
   "metadata": {},
   "outputs": [
    {
     "name": "stdout",
     "output_type": "stream",
     "text": [
      "  ==> Training (20 iterations)\n",
      "\n",
      "      Iteration    Log Likelihood    Accuracy\n",
      "      ---------------------------------------\n",
      "             1          -0.69315        0.374\n",
      "             2          -0.45128        0.778\n",
      "             3          -0.38139        0.836\n",
      "             4          -0.34338        0.844\n",
      "             5          -0.31939        0.851\n",
      "             6          -0.30269        0.856\n",
      "             7          -0.29025        0.860\n",
      "             8          -0.28053        0.862\n",
      "             9          -0.27265        0.865\n",
      "            10          -0.26608        0.867\n",
      "            11          -0.26048        0.868\n",
      "            12          -0.25563        0.871\n",
      "            13          -0.25136        0.872\n",
      "            14          -0.24757        0.874\n",
      "            15          -0.24416        0.875\n",
      "            16          -0.24108        0.875\n",
      "            17          -0.23827        0.876\n",
      "            18          -0.23569        0.877\n",
      "            19          -0.23332        0.878\n",
      "         Final          -0.23113        0.878\n",
      "Model Accuracy: 0.824\n",
      "Male Errors: ['Muffin', 'Lowell', 'Chen', 'Price', 'Brewer', 'Ricky', 'Konstantin', 'Blaine', 'Chrissy', 'Filmore', 'Anthony', 'Fazeel', 'Matty', 'Mortie', 'Elijah', 'Martie', 'Nathaniel', 'Blare', 'Demosthenis', 'Reza', 'Cal', 'Hannibal', 'Joe', 'Cass', 'Marshal', 'Jeffie', 'Davie', 'Ellsworth', 'Artie', 'Tabbie', 'Sayre', 'Maurie', 'Pete', 'Ajai', 'Nevile', 'Giffie', 'Randy', 'Sansone', 'Sigfrid', 'Allin', 'Dabney', 'Jodie', 'Kincaid', 'Martainn', 'Judith', 'Tann', 'Murphy']\n",
      "Female Errors:  ['Riannon', 'Fred', 'Cybill', 'Clovis', 'Ruth', 'Gabriell', 'Maryrose', 'Leland', 'Marjie', 'Hortense', 'Lindsay', 'Willow', 'Susan', 'Pearl', 'Tabby', 'Theo', 'Nichol', 'Gabi', 'Trudie', 'Pammy', 'Marigold', 'Siobhan', 'Starr', 'Carolan', 'Taffy', 'Rafa', 'Isabeau', 'Florence', 'Barbie', 'Page', 'Valery', 'Wynn', 'Jemie', 'Dagmar', 'Max', 'Suzan', 'Sophey', 'Rae', 'Renel', 'Helen-Elizabeth', 'Lyndsay']\n"
     ]
    }
   ],
   "source": [
    "# Define the features for the eigth classifier\n",
    "def gender_features_iter_8(word):\n",
    "    return {'first_letter': word[0].lower(),\n",
    "            'last_letter': word[-1],\n",
    "            'first_two': word[0:1].lower(),\n",
    "            'last_two': word[-2:],\n",
    "            'first_three': word[0:2],\n",
    "            'last_three': word[-3:],\n",
    "            'length_of_name': len(word),\n",
    "            'doubles': double_letter_check(word),\n",
    "            'feminine_ending': feminine_ending(word)}\n",
    "\n",
    "names_model_test(gender_features_iter_8)"
   ]
  },
  {
   "cell_type": "code",
   "execution_count": 42,
   "metadata": {},
   "outputs": [],
   "source": [
    "# Define a function that checks if a word contains a masculine ending\n",
    "def masculine_ending(word):\n",
    "    if word[-1] == 'o' or word[-2:] == 'on' or word[-2:] == 'er' or word[-2:] == 'tt' or word[-2:] == 'el':\n",
    "        return True\n",
    "    return False\n",
    "\n",
    "# Define a function that checks if a word starts with an unvoiced consonant\n",
    "def unvoiced_beginning(word):\n",
    "    if word[0] == 'f' or word[0] == 'k' or word[0] == 'c' or word[0] == 'p' or word[0] == 's' or word[0] == 't' or word[0:1] == 'sh' or word[0:1] == 'ch' :\n",
    "        return True\n",
    "    return False"
   ]
  },
  {
   "cell_type": "code",
   "execution_count": 43,
   "metadata": {},
   "outputs": [
    {
     "name": "stdout",
     "output_type": "stream",
     "text": [
      "  ==> Training (20 iterations)\n",
      "\n",
      "      Iteration    Log Likelihood    Accuracy\n",
      "      ---------------------------------------\n",
      "             1          -0.69315        0.372\n",
      "             2          -0.47403        0.747\n",
      "             3          -0.40424        0.822\n",
      "             4          -0.36402        0.840\n",
      "             5          -0.33803        0.848\n",
      "             6          -0.31973        0.854\n",
      "             7          -0.30603        0.857\n",
      "             8          -0.29529        0.860\n",
      "             9          -0.28658        0.861\n",
      "            10          -0.27932        0.863\n",
      "            11          -0.27315        0.865\n",
      "            12          -0.26781        0.865\n",
      "            13          -0.26312        0.867\n",
      "            14          -0.25895        0.867\n",
      "            15          -0.25522        0.868\n",
      "            16          -0.25184        0.869\n",
      "            17          -0.24876        0.869\n",
      "            18          -0.24594        0.870\n",
      "            19          -0.24334        0.871\n",
      "         Final          -0.24093        0.871\n",
      "Model Accuracy: 0.822\n",
      "Male Errors: ['Lauren', 'Normie', 'Kyle', 'Jeffrey', 'Chancey', 'Jae', 'Jamey', 'Galen', 'Merrill', 'Augie', 'Dimitris', 'Tremayne', 'Phillipe', 'Ely', 'Jermayne', 'Morrie', 'Aldis', 'Hamnet', 'Willy', 'Emil', 'Magnum', 'Juergen', 'Lonnie', 'Marlowe', 'Andonis', 'Sheffie', 'Zolly', 'Christofer', 'Cat', 'Ashby', 'Siffre', 'Etienne', 'Nelsen', 'Darin', 'Hermann', 'Emile', 'Benjamen', 'Piet', 'Skippy', 'Edie', 'Kincaid', 'Meredeth', 'Cary', 'Skippie', 'Demetris']\n",
      "Female Errors:  ['Joey', 'Consuelo', 'Sharai', 'Amargo', 'Angel', 'Adah', 'Bel', 'Koo', 'Jemie', 'Kesley', 'Whitney', 'Ginger', 'Sadie', 'Opal', 'Tommie', 'Bess', 'Meriel', 'Deb', 'Gilligan', 'Genny', 'Beilul', 'Nell', 'Kiah', 'Taffy', 'Clem', 'Anne-Mar', 'Dion', 'Harmony', 'Genvieve', 'Kerstin', 'Laurel', 'Fortune', 'Tybie', 'Britt', 'Quentin', 'Olivie', 'Page', 'Roz', 'Rivy', 'Doloritas', 'Hesther', 'Shannen', 'Wynny', 'Lesly']\n"
     ]
    }
   ],
   "source": [
    "\n",
    "\n",
    "# Define the features for the ninth classifier\n",
    "def gender_features_iter_9(word):\n",
    "    return {'first_letter': word[0].lower(),\n",
    "            'last_letter': word[-1],\n",
    "            'first_two': word[0:1].lower(),\n",
    "            'last_two': word[-2:],\n",
    "            'first_three': word[0:2],\n",
    "            'last_three': word[-3:],\n",
    "            'length_of_name': len(word),\n",
    "            'doubles': double_letter_check(word),\n",
    "            'feminine_ending': feminine_ending(word),\n",
    "            'masculine_ending': masculine_ending(word),\n",
    "            'unvoiced_beginning': unvoiced_beginning(word)}\n",
    "\n",
    "names_model_test(gender_features_iter_9)"
   ]
  },
  {
   "cell_type": "code",
   "execution_count": 45,
   "metadata": {},
   "outputs": [
    {
     "name": "stdout",
     "output_type": "stream",
     "text": [
      "  Feature                                           female    male\n",
      "  ----------------------------------------------------------------\n",
      "  first_three=='Ky' (1)                              0.595\n",
      "  last_three=='yle' (1)                             -0.358\n",
      "  last_letter=='e' (1)                               0.129\n",
      "  first_letter=='k' (1)                              0.122\n",
      "  first_two=='k' (1)                                 0.122\n",
      "  last_two=='le' (1)                                 0.093\n",
      "  feminine_ending==False (1)                        -0.044\n",
      "  masculine_ending==False (1)                        0.039\n",
      "  unvoiced_beginning==False (1)                      0.017\n",
      "  length_of_name==4 (1)                             -0.016\n",
      "  doubles==False (1)                                -0.015\n",
      "  last_three=='yle' (1)                                      0.534\n",
      "  first_letter=='k' (1)                                     -0.322\n",
      "  first_two=='k' (1)                                        -0.322\n",
      "  last_letter=='e' (1)                                      -0.291\n",
      "  last_two=='le' (1)                                        -0.204\n",
      "  masculine_ending==False (1)                               -0.056\n",
      "  feminine_ending==False (1)                                 0.053\n",
      "  doubles==False (1)                                         0.030\n",
      "  length_of_name==4 (1)                                      0.029\n",
      "  unvoiced_beginning==False (1)                             -0.016\n",
      "  -----------------------------------------------------------------\n",
      "  TOTAL:                                             0.683  -0.567\n",
      "  PROBS:                                             0.704   0.296\n"
     ]
    }
   ],
   "source": [
    "model.explain(gender_features_iter_9('Kyle'))"
   ]
  }
 ],
 "metadata": {
  "kernelspec": {
   "display_name": "env_cunysps_data620",
   "language": "python",
   "name": "python3"
  },
  "language_info": {
   "codemirror_mode": {
    "name": "ipython",
    "version": 3
   },
   "file_extension": ".py",
   "mimetype": "text/x-python",
   "name": "python",
   "nbconvert_exporter": "python",
   "pygments_lexer": "ipython3",
   "version": "3.12.1"
  }
 },
 "nbformat": 4,
 "nbformat_minor": 2
}
