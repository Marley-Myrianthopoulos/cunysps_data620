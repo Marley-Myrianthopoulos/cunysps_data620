{
  "cells": [
    {
      "cell_type": "markdown",
      "metadata": {
        "id": "OL-LnFP0Tqzi"
      },
      "source": [
        "# Introduction"
      ]
    },
    {
      "cell_type": "markdown",
      "metadata": {
        "id": "ySi_5xN2buce"
      },
      "source": [
        "Molly Siebecker and Marley Myrianthopoulos\n",
        "\n",
        "CUNY SPS\n",
        "\n",
        "DATA 620\n",
        "\n",
        "Summer 2024\n",
        "\n",
        "[Presentation Video](https://drive.google.com/file/d/19ybfab2x3ZqUBLrUCQk8bEapBxr5pmd7/view?usp=sharing)"
      ]
    },
    {
      "cell_type": "markdown",
      "metadata": {
        "id": "VH8gb-WPbrpe"
      },
      "source": [
        "These data sets (one for nodes and one for edges) record connections between Spotify artists, as measured by their features. We obtained the data [here](https://www.kaggle.com/datasets/jfreyberg/spotify-artist-feature-collaboration-network?select=edges.csv), originally taken from the Spotify API. When one artist is featured on another artist's song, that feature is recorded as an undirected link. The nodes data set includes each artist's name, Spotify ID, number of followers, popularity ranking, associated genres, and number of chart hits in various countries. In the edges data set, each observation represents a collaboration between artists. There are two columns, one for each ID of the artists collaborating.\n",
        "\n",
        "Since this data includes over 130,000 artists, we will limit the scope of the investigation to only the most popular artists by filtering the data based on number of Spotify followers. After mapping their connections, we will group them by genre to divide them into categorical groups. We will then compute three measures of centrality (degree centrality, normalized degree centrality, and eigenvector centrality) both for each artist and for each genre. This will allow us to compare which genres have higher levels of collaboration in general, and could hypothetically be used to predict centrality measures for other top artists within a known genre."
      ]
    },
    {
      "cell_type": "markdown",
      "metadata": {
        "id": "DGQt0vCj46ZA"
      },
      "source": [
        "# Loading and Inspecting the Data"
      ]
    },
    {
      "cell_type": "code",
      "execution_count": 1,
      "metadata": {
        "colab": {
          "base_uri": "https://localhost:8080/",
          "height": 206
        },
        "id": "sxYbk7JLGxeA",
        "outputId": "a7b2028c-2a0c-4129-bc49-53958d234eb2"
      },
      "outputs": [
        {
          "data": {
            "text/html": [
              "<div>\n",
              "<style scoped>\n",
              "    .dataframe tbody tr th:only-of-type {\n",
              "        vertical-align: middle;\n",
              "    }\n",
              "\n",
              "    .dataframe tbody tr th {\n",
              "        vertical-align: top;\n",
              "    }\n",
              "\n",
              "    .dataframe thead th {\n",
              "        text-align: right;\n",
              "    }\n",
              "</style>\n",
              "<table border=\"1\" class=\"dataframe\">\n",
              "  <thead>\n",
              "    <tr style=\"text-align: right;\">\n",
              "      <th></th>\n",
              "      <th>spotify_id</th>\n",
              "      <th>name</th>\n",
              "      <th>followers</th>\n",
              "      <th>popularity</th>\n",
              "      <th>genres</th>\n",
              "      <th>chart_hits</th>\n",
              "    </tr>\n",
              "  </thead>\n",
              "  <tbody>\n",
              "    <tr>\n",
              "      <th>0</th>\n",
              "      <td>48WvrUGoijadXXCsGocwM4</td>\n",
              "      <td>Byklubben</td>\n",
              "      <td>1738.0</td>\n",
              "      <td>24</td>\n",
              "      <td>['nordic house', 'russelater']</td>\n",
              "      <td>['no (3)']</td>\n",
              "    </tr>\n",
              "    <tr>\n",
              "      <th>1</th>\n",
              "      <td>4lDiJcOJ2GLCK6p9q5BgfK</td>\n",
              "      <td>Kontra K</td>\n",
              "      <td>1999676.0</td>\n",
              "      <td>72</td>\n",
              "      <td>['christlicher rap', 'german hip hop']</td>\n",
              "      <td>['at (44)', 'de (111)', 'lu (22)', 'ch (31)', ...</td>\n",
              "    </tr>\n",
              "    <tr>\n",
              "      <th>2</th>\n",
              "      <td>652XIvIBNGg3C0KIGEJWit</td>\n",
              "      <td>Maxim</td>\n",
              "      <td>34596.0</td>\n",
              "      <td>36</td>\n",
              "      <td>[]</td>\n",
              "      <td>['de (1)']</td>\n",
              "    </tr>\n",
              "    <tr>\n",
              "      <th>3</th>\n",
              "      <td>3dXC1YPbnQPsfHPVkm1ipj</td>\n",
              "      <td>Christopher Martin</td>\n",
              "      <td>249233.0</td>\n",
              "      <td>52</td>\n",
              "      <td>['dancehall', 'lovers rock', 'modern reggae', ...</td>\n",
              "      <td>['at (1)', 'de (1)']</td>\n",
              "    </tr>\n",
              "    <tr>\n",
              "      <th>4</th>\n",
              "      <td>74terC9ol9zMo8rfzhSOiG</td>\n",
              "      <td>Jakob Hellman</td>\n",
              "      <td>21193.0</td>\n",
              "      <td>39</td>\n",
              "      <td>['classic swedish pop', 'norrbotten indie', 's...</td>\n",
              "      <td>['se (6)']</td>\n",
              "    </tr>\n",
              "  </tbody>\n",
              "</table>\n",
              "</div>"
            ],
            "text/plain": [
              "               spotify_id                name  followers  popularity  \\\n",
              "0  48WvrUGoijadXXCsGocwM4           Byklubben     1738.0          24   \n",
              "1  4lDiJcOJ2GLCK6p9q5BgfK            Kontra K  1999676.0          72   \n",
              "2  652XIvIBNGg3C0KIGEJWit               Maxim    34596.0          36   \n",
              "3  3dXC1YPbnQPsfHPVkm1ipj  Christopher Martin   249233.0          52   \n",
              "4  74terC9ol9zMo8rfzhSOiG       Jakob Hellman    21193.0          39   \n",
              "\n",
              "                                              genres  \\\n",
              "0                     ['nordic house', 'russelater']   \n",
              "1             ['christlicher rap', 'german hip hop']   \n",
              "2                                                 []   \n",
              "3  ['dancehall', 'lovers rock', 'modern reggae', ...   \n",
              "4  ['classic swedish pop', 'norrbotten indie', 's...   \n",
              "\n",
              "                                          chart_hits  \n",
              "0                                         ['no (3)']  \n",
              "1  ['at (44)', 'de (111)', 'lu (22)', 'ch (31)', ...  \n",
              "2                                         ['de (1)']  \n",
              "3                               ['at (1)', 'de (1)']  \n",
              "4                                         ['se (6)']  "
            ]
          },
          "execution_count": 1,
          "metadata": {},
          "output_type": "execute_result"
        }
      ],
      "source": [
        "import pandas as pd\n",
        "import networkx as nx\n",
        "import matplotlib.pyplot as plt\n",
        "import random\n",
        "\n",
        "random.seed(24)\n",
        "\n",
        "# Read the edges CSV file into a DataFrame\n",
        "edges_df = pd.read_csv('https://raw.githubusercontent.com/Marley-Myrianthopoulos/cunysps_data620/main/620_project1_edges.csv')\n",
        "\n",
        "# Read the nodes CSV file into a DataFrame\n",
        "nodes_df = pd.read_csv('https://raw.githubusercontent.com/Marley-Myrianthopoulos/cunysps_data620/main/620_project1_nodes.csv')\n",
        "\n",
        "nodes_df.head()"
      ]
    },
    {
      "cell_type": "markdown",
      "metadata": {
        "id": "S6Zm3ofQ4W7v"
      },
      "source": [
        "The data frame includes tens of thousands of artists, so we filtered it to only the top 100 artists, determined by number of followers. We also mapped the Spotify IDs to artists' names so that we could change the values in the edges_df from IDs to names, for ease of analysis later."
      ]
    },
    {
      "cell_type": "code",
      "execution_count": 2,
      "metadata": {
        "colab": {
          "base_uri": "https://localhost:8080/",
          "height": 206
        },
        "id": "Rl9L_U4ykS80",
        "outputId": "29af525b-eb3f-4e01-e008-dbc382630640"
      },
      "outputs": [
        {
          "data": {
            "text/html": [
              "<div>\n",
              "<style scoped>\n",
              "    .dataframe tbody tr th:only-of-type {\n",
              "        vertical-align: middle;\n",
              "    }\n",
              "\n",
              "    .dataframe tbody tr th {\n",
              "        vertical-align: top;\n",
              "    }\n",
              "\n",
              "    .dataframe thead th {\n",
              "        text-align: right;\n",
              "    }\n",
              "</style>\n",
              "<table border=\"1\" class=\"dataframe\">\n",
              "  <thead>\n",
              "    <tr style=\"text-align: right;\">\n",
              "      <th></th>\n",
              "      <th>id_0</th>\n",
              "      <th>id_1</th>\n",
              "    </tr>\n",
              "  </thead>\n",
              "  <tbody>\n",
              "    <tr>\n",
              "      <th>174</th>\n",
              "      <td>Nicki Minaj</td>\n",
              "      <td>Post Malone</td>\n",
              "    </tr>\n",
              "    <tr>\n",
              "      <th>631</th>\n",
              "      <td>Avicii</td>\n",
              "      <td>Imagine Dragons</td>\n",
              "    </tr>\n",
              "    <tr>\n",
              "      <th>3861</th>\n",
              "      <td>Nicky Jam</td>\n",
              "      <td>Bad Bunny</td>\n",
              "    </tr>\n",
              "    <tr>\n",
              "      <th>3897</th>\n",
              "      <td>Khalid</td>\n",
              "      <td>Shawn Mendes</td>\n",
              "    </tr>\n",
              "    <tr>\n",
              "      <th>4599</th>\n",
              "      <td>Ozuna</td>\n",
              "      <td>Doja Cat</td>\n",
              "    </tr>\n",
              "  </tbody>\n",
              "</table>\n",
              "</div>"
            ],
            "text/plain": [
              "             id_0             id_1\n",
              "174   Nicki Minaj      Post Malone\n",
              "631        Avicii  Imagine Dragons\n",
              "3861    Nicky Jam        Bad Bunny\n",
              "3897       Khalid     Shawn Mendes\n",
              "4599        Ozuna         Doja Cat"
            ]
          },
          "execution_count": 2,
          "metadata": {},
          "output_type": "execute_result"
        }
      ],
      "source": [
        "# filters for top 100 artists\n",
        "\n",
        "nodes_df = nodes_df.sort_values(by='followers', ascending = False)\n",
        "\n",
        "\n",
        "nodes_df = nodes_df.head(100)\n",
        "\n",
        "edges_df = edges_df[edges_df['id_0'].isin(nodes_df['spotify_id'])]\n",
        "edges_df = edges_df[edges_df['id_1'].isin(nodes_df['spotify_id'])]\n",
        "\n",
        "# maps names to id's\n",
        "\n",
        "mapping_dict = dict(zip(nodes_df['spotify_id'], nodes_df['name']))\n",
        "\n",
        "edges_df['id_0'] = edges_df['id_0'].map(mapping_dict)\n",
        "edges_df['id_1'] = edges_df['id_1'].map(mapping_dict)\n",
        "\n",
        "edges_df.head()"
      ]
    },
    {
      "cell_type": "markdown",
      "metadata": {
        "id": "_v6ryk2g4vSZ"
      },
      "source": [
        "Below, we created a graph of the connections. Each node represents an artist, and each edge represents a feature."
      ]
    },
    {
      "cell_type": "code",
      "execution_count": 3,
      "metadata": {
        "colab": {
          "base_uri": "https://localhost:8080/",
          "height": 539
        },
        "id": "4zQNVbXJMF11",
        "outputId": "6ff56d5c-286a-4a52-d5b1-53954e85fa7d"
      },
      "outputs": [
        {
          "data": {
            "image/png": "[encoded data removed]",
            "text/plain": [
              "<Figure size 640x480 with 1 Axes>"
            ]
          },
          "metadata": {},
          "output_type": "display_data"
        }
      ],
      "source": [
        "# initializes graph\n",
        "graph = nx.Graph()\n",
        "\n",
        "\n",
        "# adds edges to the graph\n",
        "for index, row in edges_df.iterrows():\n",
        "    graph.add_edge(row['id_0'], row['id_1'])\n",
        "\n",
        "# draws graph\n",
        "pos = nx.spring_layout(graph)\n",
        "nx.draw(graph, pos, with_labels=True, node_color='lightblue', node_size=100, edge_color='gray')\n",
        "plt.title('Spotify Artist Features')\n",
        "plt.show()"
      ]
    },
    {
      "cell_type": "markdown",
      "metadata": {
        "id": "XVZrezmi5Hia"
      },
      "source": [
        "# Data Transformation"
      ]
    },
    {
      "cell_type": "markdown",
      "metadata": {
        "id": "LOPu2OQY8Pma"
      },
      "source": [
        "We inspected the first five rows of the top 100 artists, sorted by number of followers. We also inspected the unique artist names and the unique genres."
      ]
    },
    {
      "cell_type": "code",
      "execution_count": 4,
      "metadata": {
        "colab": {
          "base_uri": "https://localhost:8080/",
          "height": 206
        },
        "id": "MxSHW3yLpXCA",
        "outputId": "18905679-1009-4eb2-d135-a2a354654686"
      },
      "outputs": [
        {
          "data": {
            "text/html": [
              "<div>\n",
              "<style scoped>\n",
              "    .dataframe tbody tr th:only-of-type {\n",
              "        vertical-align: middle;\n",
              "    }\n",
              "\n",
              "    .dataframe tbody tr th {\n",
              "        vertical-align: top;\n",
              "    }\n",
              "\n",
              "    .dataframe thead th {\n",
              "        text-align: right;\n",
              "    }\n",
              "</style>\n",
              "<table border=\"1\" class=\"dataframe\">\n",
              "  <thead>\n",
              "    <tr style=\"text-align: right;\">\n",
              "      <th></th>\n",
              "      <th>spotify_id</th>\n",
              "      <th>name</th>\n",
              "      <th>followers</th>\n",
              "      <th>popularity</th>\n",
              "      <th>genres</th>\n",
              "      <th>chart_hits</th>\n",
              "    </tr>\n",
              "  </thead>\n",
              "  <tbody>\n",
              "    <tr>\n",
              "      <th>14198</th>\n",
              "      <td>6eUKZXaKkcviH0Ku9w2n3V</td>\n",
              "      <td>Ed Sheeran</td>\n",
              "      <td>102156853.0</td>\n",
              "      <td>90</td>\n",
              "      <td>['pop', 'uk pop']</td>\n",
              "      <td>['us (52)', 'gb (83)', 'ar (36)', 'au (65)', '...</td>\n",
              "    </tr>\n",
              "    <tr>\n",
              "      <th>17604</th>\n",
              "      <td>66CXWjxzNUsdJxJ2JdwvnR</td>\n",
              "      <td>Ariana Grande</td>\n",
              "      <td>83045090.0</td>\n",
              "      <td>88</td>\n",
              "      <td>['dance pop', 'pop']</td>\n",
              "      <td>['us (81)', 'gb (69)', 'ar (36)', 'au (70)', '...</td>\n",
              "    </tr>\n",
              "    <tr>\n",
              "      <th>18188</th>\n",
              "      <td>6qqNVTkY8uBg9cP3Jd7DAH</td>\n",
              "      <td>Billie Eilish</td>\n",
              "      <td>68407227.0</td>\n",
              "      <td>88</td>\n",
              "      <td>['art pop', 'electropop', 'pop']</td>\n",
              "      <td>['us (46)', 'gb (43)', 'ar (23)', 'au (45)', '...</td>\n",
              "    </tr>\n",
              "    <tr>\n",
              "      <th>18726</th>\n",
              "      <td>3TVXtAsR1Inumwj472S9r4</td>\n",
              "      <td>Drake</td>\n",
              "      <td>66852536.0</td>\n",
              "      <td>95</td>\n",
              "      <td>['canadian hip hop', 'canadian pop', 'hip hop'...</td>\n",
              "      <td>['us (190)', 'gb (163)', 'ar (18)', 'au (148)'...</td>\n",
              "    </tr>\n",
              "    <tr>\n",
              "      <th>6237</th>\n",
              "      <td>1uNFoZAHBGtllmzznpCI3s</td>\n",
              "      <td>Justin Bieber</td>\n",
              "      <td>65590075.0</td>\n",
              "      <td>90</td>\n",
              "      <td>['canadian pop', 'pop']</td>\n",
              "      <td>['us (58)', 'gb (51)', 'ar (29)', 'au (54)', '...</td>\n",
              "    </tr>\n",
              "  </tbody>\n",
              "</table>\n",
              "</div>"
            ],
            "text/plain": [
              "                   spotify_id           name    followers  popularity  \\\n",
              "14198  6eUKZXaKkcviH0Ku9w2n3V     Ed Sheeran  102156853.0          90   \n",
              "17604  66CXWjxzNUsdJxJ2JdwvnR  Ariana Grande   83045090.0          88   \n",
              "18188  6qqNVTkY8uBg9cP3Jd7DAH  Billie Eilish   68407227.0          88   \n",
              "18726  3TVXtAsR1Inumwj472S9r4          Drake   66852536.0          95   \n",
              "6237   1uNFoZAHBGtllmzznpCI3s  Justin Bieber   65590075.0          90   \n",
              "\n",
              "                                                  genres  \\\n",
              "14198                                  ['pop', 'uk pop']   \n",
              "17604                               ['dance pop', 'pop']   \n",
              "18188                   ['art pop', 'electropop', 'pop']   \n",
              "18726  ['canadian hip hop', 'canadian pop', 'hip hop'...   \n",
              "6237                             ['canadian pop', 'pop']   \n",
              "\n",
              "                                              chart_hits  \n",
              "14198  ['us (52)', 'gb (83)', 'ar (36)', 'au (65)', '...  \n",
              "17604  ['us (81)', 'gb (69)', 'ar (36)', 'au (70)', '...  \n",
              "18188  ['us (46)', 'gb (43)', 'ar (23)', 'au (45)', '...  \n",
              "18726  ['us (190)', 'gb (163)', 'ar (18)', 'au (148)'...  \n",
              "6237   ['us (58)', 'gb (51)', 'ar (29)', 'au (54)', '...  "
            ]
          },
          "execution_count": 4,
          "metadata": {},
          "output_type": "execute_result"
        }
      ],
      "source": [
        "nodes_df.head()"
      ]
    },
    {
      "cell_type": "code",
      "execution_count": 5,
      "metadata": {
        "colab": {
          "base_uri": "https://localhost:8080/"
        },
        "id": "GehevWDs4npt",
        "outputId": "cb593775-b62f-4c64-a2be-d49567a8a849"
      },
      "outputs": [
        {
          "data": {
            "text/plain": [
              "array(['Ed Sheeran', 'Ariana Grande', 'Billie Eilish', 'Drake',\n",
              "       'Justin Bieber', 'Eminem', 'Taylor Swift', 'Arijit Singh',\n",
              "       'Bad Bunny', 'BTS', 'Rihanna', 'The Weeknd', 'Bruno Mars', 'Queen',\n",
              "       'Adele', 'Imagine Dragons', 'Shawn Mendes', 'Coldplay',\n",
              "       'Post Malone', 'XXXTENTACION', 'Maroon 5', 'Neha Kakkar',\n",
              "       'Selena Gomez', 'Dua Lipa', 'J Balvin', 'Alan Walker',\n",
              "       'Marshmello', 'Ozuna', 'BLACKPINK', 'Maluma', 'Beyoncé',\n",
              "       'Daddy Yankee', 'KAROL G', 'Camila Cabello', 'One Direction',\n",
              "       'Marília Mendonça', 'Nicki Minaj', \"Guns N' Roses\", 'Juice WRLD',\n",
              "       'Shakira', 'David Guetta', 'AC/DC', 'Sia', 'Michael Jackson',\n",
              "       'A.R. Rahman', 'Anuel AA', 'The Beatles', 'Harry Styles',\n",
              "       'Demi Lovato', 'Lady Gaga', 'Calvin Harris', 'Twenty One Pilots',\n",
              "       'Katy Perry', 'Metallica', 'Avicii', 'Doja Cat', 'Linkin Park',\n",
              "       'Kendrick Lamar', 'ZAYN', 'Badshah', 'Travis Scott',\n",
              "       'Olivia Rodrigo', 'Cardi B', 'Sam Smith', 'Sebastian Yatra',\n",
              "       'The Chainsmokers', 'Miley Cyrus', 'Paulo Londra',\n",
              "       'Red Hot Chili Peppers', 'Halsey', 'Kanye West', 'J. Cole',\n",
              "       'Lana Del Rey', 'Nicky Jam', 'Pink Floyd', 'Charlie Puth',\n",
              "       'Jorge & Mateus', 'Gusttavo Lima', 'Zé Neto & Cristiano',\n",
              "       'Chris Brown', 'Henrique & Juliano', 'Romeo Santos', 'Camilo',\n",
              "       'Banda MS de Sergio Lizárraga', 'Nirvana', 'Arctic Monkeys',\n",
              "       'Martin Garrix', 'Khalid', 'Armaan Malik', 'Melanie Martinez',\n",
              "       'TWICE', 'Fifth Harmony', 'OneRepublic', 'Farruko', 'Lil Uzi Vert',\n",
              "       'Shreya Ghoshal', 'P!nk', 'Rauw Alejandro', '2Pac', 'Green Day'],\n",
              "      dtype=object)"
            ]
          },
          "execution_count": 5,
          "metadata": {},
          "output_type": "execute_result"
        }
      ],
      "source": [
        "nodes_df['name'].unique()"
      ]
    },
    {
      "cell_type": "code",
      "execution_count": 6,
      "metadata": {
        "colab": {
          "base_uri": "https://localhost:8080/"
        },
        "id": "WPnpaOBSpjKU",
        "outputId": "79a7f737-9047-411f-be52-5815f3263000"
      },
      "outputs": [
        {
          "data": {
            "text/plain": [
              "array([\"['pop', 'uk pop']\", \"['dance pop', 'pop']\",\n",
              "       \"['art pop', 'electropop', 'pop']\",\n",
              "       \"['canadian hip hop', 'canadian pop', 'hip hop', 'rap', 'toronto rap']\",\n",
              "       \"['canadian pop', 'pop']\", \"['detroit hip hop', 'hip hop', 'rap']\",\n",
              "       \"['pop']\", \"['desi pop', 'filmi', 'modern bollywood']\",\n",
              "       \"['reggaeton', 'trap latino']\", \"['k-pop', 'k-pop boy group']\",\n",
              "       \"['barbadian pop', 'dance pop', 'pop', 'urban contemporary']\",\n",
              "       \"['canadian contemporary r&b', 'canadian pop', 'pop']\",\n",
              "       \"['classic rock', 'glam rock', 'rock']\",\n",
              "       \"['british soul', 'pop', 'pop soul', 'uk pop']\",\n",
              "       \"['modern rock', 'rock']\",\n",
              "       \"['canadian pop', 'dance pop', 'pop', 'viral pop']\",\n",
              "       \"['permanent wave', 'pop']\", \"['dfw rap', 'melodic rap', 'rap']\",\n",
              "       \"['emo rap', 'miami hip hop']\",\n",
              "       \"['dance pop', 'pop', 'post-teen pop', 'uk pop']\",\n",
              "       \"['dance pop', 'pop', 'uk pop']\",\n",
              "       \"['reggaeton', 'reggaeton colombiano', 'trap latino']\",\n",
              "       \"['electro house']\",\n",
              "       \"['brostep', 'dance pop', 'edm', 'pop', 'pop dance', 'progressive electro house']\",\n",
              "       \"['puerto rican pop', 'reggaeton', 'trap latino']\",\n",
              "       \"['k-pop', 'k-pop girl group']\", \"['dance pop', 'pop', 'r&b']\",\n",
              "       \"['latin hip hop', 'reggaeton', 'trap latino']\",\n",
              "       \"['reggaeton', 'reggaeton colombiano']\",\n",
              "       \"['boy band', 'pop', 'post-teen pop', 'talent show']\",\n",
              "       \"['arrocha', 'sertanejo']\",\n",
              "       \"['dance pop', 'hip pop', 'pop', 'queens hip hop', 'rap']\",\n",
              "       \"['glam metal', 'hard rock', 'rock']\",\n",
              "       \"['chicago rap', 'melodic rap']\",\n",
              "       \"['colombian pop', 'dance pop', 'latin pop']\",\n",
              "       \"['big room', 'dance pop', 'edm', 'pop', 'pop dance']\",\n",
              "       \"['australian rock', 'hard rock', 'rock']\",\n",
              "       \"['australian dance', 'australian pop', 'dance pop', 'pop']\",\n",
              "       \"['pop', 'r&b', 'soul']\",\n",
              "       \"['reggaeton', 'reggaeton flow', 'trap boricua', 'trap latino']\",\n",
              "       \"['beatlesque', 'british invasion', 'classic rock', 'merseybeat', 'psychedelic rock', 'rock']\",\n",
              "       \"['art pop', 'dance pop', 'pop']\",\n",
              "       \"['dance pop', 'edm', 'electro house', 'house', 'pop', 'progressive house', 'uk dance']\",\n",
              "       \"['hard rock', 'metal', 'old school thrash', 'rock', 'thrash metal']\",\n",
              "       \"['dance pop', 'edm', 'pop', 'pop dance', 'pop rap']\",\n",
              "       \"['alternative metal', 'nu metal', 'post-grunge', 'rap metal']\",\n",
              "       \"['conscious hip hop', 'hip hop', 'rap', 'west coast rap']\",\n",
              "       \"['desi hip hop', 'desi pop', 'desi trap', 'haryanvi pop', 'modern bollywood']\",\n",
              "       \"['hip hop', 'rap', 'slap house']\", \"['dance pop', 'pop', 'rap']\",\n",
              "       \"['colombian pop', 'reggaeton colombiano']\",\n",
              "       \"['dance pop', 'edm', 'electropop', 'pop', 'pop dance', 'tropical house']\",\n",
              "       \"['argentine hip hop', 'trap argentino', 'trap latino']\",\n",
              "       \"['alternative rock', 'funk metal', 'funk rock', 'permanent wave']\",\n",
              "       \"['dance pop', 'electropop', 'etherpop', 'indie poptimism', 'pop']\",\n",
              "       \"['chicago rap', 'rap']\",\n",
              "       \"['conscious hip hop', 'hip hop', 'north carolina hip hop', 'rap']\",\n",
              "       \"['art pop', 'pop']\",\n",
              "       \"['album rock', 'art rock', 'classic rock', 'progressive rock', 'psychedelic rock', 'rock', 'symphonic rock']\",\n",
              "       \"['dance pop', 'pop', 'viral pop']\",\n",
              "       \"['arrocha', 'sertanejo', 'sertanejo universitario']\",\n",
              "       \"['arrocha', 'sertanejo', 'sertanejo pop', 'sertanejo universitario']\",\n",
              "       \"['arrocha', 'sertanejo universitario']\", \"['bachata']\",\n",
              "       \"['banda', 'musica mexicana', 'norteno']\",\n",
              "       \"['alternative rock', 'grunge', 'permanent wave', 'rock']\",\n",
              "       \"['garage rock', 'modern rock', 'permanent wave', 'rock', 'sheffield indie']\",\n",
              "       \"['dance pop', 'dutch edm', 'edm', 'electro house', 'pop', 'pop dance', 'progressive house', 'tropical house']\",\n",
              "       \"['pop', 'pop r&b']\", \"['alt z', 'electropop', 'pop']\",\n",
              "       \"['dance pop', 'girl group', 'pop', 'post-teen pop', 'talent show', 'uk pop']\",\n",
              "       \"['piano rock', 'pop', 'pop rock']\",\n",
              "       \"['melodic rap', 'philly rap', 'rap', 'trap']\",\n",
              "       \"['puerto rican pop', 'trap latino']\",\n",
              "       \"['g funk', 'gangster rap', 'hip hop', 'rap', 'west coast rap']\",\n",
              "       \"['permanent wave', 'punk']\"], dtype=object)"
            ]
          },
          "execution_count": 6,
          "metadata": {},
          "output_type": "execute_result"
        }
      ],
      "source": [
        "nodes_df['genres'].unique()"
      ]
    },
    {
      "cell_type": "markdown",
      "metadata": {
        "id": "fOLywktl5Qwu"
      },
      "source": [
        "Almost all the artists are linked to multiple genres, but these genres are often slight variations of each other (for example, \"dance pop, pop, post-teen pop, UK pop.\") For the purpose of our analysis, we reassigned the genres by hand, using only 8 \"umbrella\" genres: Desi pop, EDM, hip hop, K-pop, Latin music, reggaeton & Latin trap, pop, and rock. The artist in the example above (One Direction) was reassigned to \"pop.\""
      ]
    },
    {
      "cell_type": "code",
      "execution_count": 7,
      "metadata": {
        "id": "BQR7Wv9n-b53"
      },
      "outputs": [],
      "source": [
        "# new lists of genres and associated artists\n",
        "\n",
        "desi_pop_artists = ['Badshah', 'Neha Kakkar', 'Arijit Singh', 'Shreya Ghoshal', 'Armaan Malik', 'A.R. Rahman']\n",
        "edm_artists = ['David Guetta', 'The Chainsmokers', 'Martin Garrix', 'Avicii', 'Alan Walker', 'Calvin Harris', 'Marshmello']\n",
        "hip_hop_artists = ['J. Cole', 'Lil Uzi Vert', 'XXXTENTACION', '2Pac', 'Post Malone', 'Travis Scott', 'Drake', 'Kanye West', 'Cardi B', 'Eminem', 'Nicki Minaj', 'Juice WRLD', 'Kendrick Lamar']\n",
        "k_pop_artists = ['TWICE', 'BTS', 'BLACKPINK']\n",
        "latin_music_artists = ['Marília Mendonça', 'Camilo', 'Zé Neto & Cristiano', 'Henrique & Juliano', 'Romeo Santos', 'Banda MS de Sergio Lizárraga', 'Shakira', 'Jorge & Mateus', 'Gusttavo Lima', 'Sebastian Yatra']\n",
        "reggaeton_latin_trap_artists = ['Bad Bunny', 'Paulo Londra', 'Daddy Yankee', 'Anuel AA', 'Nicky Jam', 'Maluma', 'Rauw Alejandro', 'J Balvin', 'Ozuna', 'KAROL G', 'Farruko']\n",
        "pop_artists = ['Khalid', 'Demi Lovato', 'Doja Cat', 'Bruno Mars', 'Chris Brown', 'The Weeknd', 'Ed Sheeran', 'Lana Del Rey', 'Rihanna', 'Maroon 5', 'P!nk', 'Harry Styles', 'Halsey', 'Ariana Grande', 'Adele', 'Billie Eilish', 'Katy Perry', 'Sam Smith', 'Shawn Mendes', 'Dua Lipa', 'OneRepublic', 'Camila Cabello', 'One Direction', 'ZAYN', 'Melanie Martinez', 'Fifth Harmony', 'Taylor Swift', 'Beyoncé', 'Olivia Rodrigo', 'Michael Jackson', 'Justin Bieber', 'Miley Cyrus', 'Charlie Puth', 'Coldplay', 'Lady Gaga', 'Selena Gomez', 'Sia']\n",
        "rock_artists = ['Metallica', 'The Beatles', 'Pink Floyd', 'Red Hot Chili Peppers', 'Arctic Monkeys', 'Twenty One Pilots', 'AC/DC', 'Nirvana', \"Guns N' Roses\", 'Queen', 'Imagine Dragons', 'Green Day', 'Linkin Park']"
      ]
    },
    {
      "cell_type": "code",
      "execution_count": 8,
      "metadata": {
        "colab": {
          "base_uri": "https://localhost:8080/",
          "height": 206
        },
        "id": "AlCxXXAECotJ",
        "outputId": "b127c58e-1c31-4926-84f0-ca9f9cf67a97"
      },
      "outputs": [
        {
          "data": {
            "text/html": [
              "<div>\n",
              "<style scoped>\n",
              "    .dataframe tbody tr th:only-of-type {\n",
              "        vertical-align: middle;\n",
              "    }\n",
              "\n",
              "    .dataframe tbody tr th {\n",
              "        vertical-align: top;\n",
              "    }\n",
              "\n",
              "    .dataframe thead th {\n",
              "        text-align: right;\n",
              "    }\n",
              "</style>\n",
              "<table border=\"1\" class=\"dataframe\">\n",
              "  <thead>\n",
              "    <tr style=\"text-align: right;\">\n",
              "      <th></th>\n",
              "      <th>spotify_id</th>\n",
              "      <th>name</th>\n",
              "      <th>followers</th>\n",
              "      <th>popularity</th>\n",
              "      <th>genre</th>\n",
              "      <th>chart_hits</th>\n",
              "    </tr>\n",
              "  </thead>\n",
              "  <tbody>\n",
              "    <tr>\n",
              "      <th>14198</th>\n",
              "      <td>6eUKZXaKkcviH0Ku9w2n3V</td>\n",
              "      <td>Ed Sheeran</td>\n",
              "      <td>102156853.0</td>\n",
              "      <td>90</td>\n",
              "      <td>pop</td>\n",
              "      <td>['us (52)', 'gb (83)', 'ar (36)', 'au (65)', '...</td>\n",
              "    </tr>\n",
              "    <tr>\n",
              "      <th>17604</th>\n",
              "      <td>66CXWjxzNUsdJxJ2JdwvnR</td>\n",
              "      <td>Ariana Grande</td>\n",
              "      <td>83045090.0</td>\n",
              "      <td>88</td>\n",
              "      <td>pop</td>\n",
              "      <td>['us (81)', 'gb (69)', 'ar (36)', 'au (70)', '...</td>\n",
              "    </tr>\n",
              "    <tr>\n",
              "      <th>18188</th>\n",
              "      <td>6qqNVTkY8uBg9cP3Jd7DAH</td>\n",
              "      <td>Billie Eilish</td>\n",
              "      <td>68407227.0</td>\n",
              "      <td>88</td>\n",
              "      <td>pop</td>\n",
              "      <td>['us (46)', 'gb (43)', 'ar (23)', 'au (45)', '...</td>\n",
              "    </tr>\n",
              "    <tr>\n",
              "      <th>18726</th>\n",
              "      <td>3TVXtAsR1Inumwj472S9r4</td>\n",
              "      <td>Drake</td>\n",
              "      <td>66852536.0</td>\n",
              "      <td>95</td>\n",
              "      <td>hip hop</td>\n",
              "      <td>['us (190)', 'gb (163)', 'ar (18)', 'au (148)'...</td>\n",
              "    </tr>\n",
              "    <tr>\n",
              "      <th>6237</th>\n",
              "      <td>1uNFoZAHBGtllmzznpCI3s</td>\n",
              "      <td>Justin Bieber</td>\n",
              "      <td>65590075.0</td>\n",
              "      <td>90</td>\n",
              "      <td>pop</td>\n",
              "      <td>['us (58)', 'gb (51)', 'ar (29)', 'au (54)', '...</td>\n",
              "    </tr>\n",
              "  </tbody>\n",
              "</table>\n",
              "</div>"
            ],
            "text/plain": [
              "                   spotify_id           name    followers  popularity  \\\n",
              "14198  6eUKZXaKkcviH0Ku9w2n3V     Ed Sheeran  102156853.0          90   \n",
              "17604  66CXWjxzNUsdJxJ2JdwvnR  Ariana Grande   83045090.0          88   \n",
              "18188  6qqNVTkY8uBg9cP3Jd7DAH  Billie Eilish   68407227.0          88   \n",
              "18726  3TVXtAsR1Inumwj472S9r4          Drake   66852536.0          95   \n",
              "6237   1uNFoZAHBGtllmzznpCI3s  Justin Bieber   65590075.0          90   \n",
              "\n",
              "         genre                                         chart_hits  \n",
              "14198      pop  ['us (52)', 'gb (83)', 'ar (36)', 'au (65)', '...  \n",
              "17604      pop  ['us (81)', 'gb (69)', 'ar (36)', 'au (70)', '...  \n",
              "18188      pop  ['us (46)', 'gb (43)', 'ar (23)', 'au (45)', '...  \n",
              "18726  hip hop  ['us (190)', 'gb (163)', 'ar (18)', 'au (148)'...  \n",
              "6237       pop  ['us (58)', 'gb (51)', 'ar (29)', 'au (54)', '...  "
            ]
          },
          "execution_count": 8,
          "metadata": {},
          "output_type": "execute_result"
        }
      ],
      "source": [
        "# replaces genres in nodes_df with new assignments\n",
        "\n",
        "def replace_genre(row):\n",
        "    if row['name'] in desi_pop_artists:\n",
        "        return 'desi pop'\n",
        "    elif row['name'] in edm_artists:\n",
        "        return 'edm'\n",
        "    elif row['name'] in hip_hop_artists:\n",
        "        return 'hip hop'\n",
        "    elif row['name'] in k_pop_artists:\n",
        "        return 'k_pop'\n",
        "    elif row['name'] in latin_music_artists:\n",
        "        return 'latin music'\n",
        "    elif row['name'] in reggaeton_latin_trap_artists:\n",
        "        return 'reggaeton & latin trap'\n",
        "    elif row['name'] in pop_artists:\n",
        "        return 'pop'\n",
        "    elif row['name'] in rock_artists:\n",
        "        return 'rock'\n",
        "    else:\n",
        "        print('There is an artist without a genre.')\n",
        "\n",
        "\n",
        "nodes_df['genres'] = nodes_df.apply(replace_genre, axis=1)\n",
        "nodes_df = nodes_df.rename(columns={'genres': 'genre'})\n",
        "nodes_df.head()"
      ]
    },
    {
      "cell_type": "markdown",
      "metadata": {
        "id": "dvARXIZpt4fo"
      },
      "source": [
        "# Highest Centrality Nodes"
      ]
    },
    {
      "cell_type": "markdown",
      "metadata": {
        "id": "b80gO5XQuEUd"
      },
      "source": [
        "Next, we go back to the DataFrame with the nodes and, for each node, calculate the centrality measures of degree (number of edges connecting to the node), normalized degree centrality (degree divided by number of possible edges, which is number of nodes minus one), and eigenvector centrality for that node. We create three new columns in the DataFrame to include this data for each node, then create a new DataFrame which just has the name and genre for each node as well as its centrality measures."
      ]
    },
    {
      "cell_type": "code",
      "execution_count": 9,
      "metadata": {
        "id": "6lE64zADshCj"
      },
      "outputs": [],
      "source": [
        "\n",
        "# Calculates degree centrality and eigenvector centrality for each node, creating a column for each\n",
        "node_centrality = dict(nx.degree(graph))\n",
        "nodes_df['degree'] = nodes_df['name'].apply(lambda name: node_centrality.get(name))\n",
        "\n",
        "normed_centrality = nx.degree_centrality(graph)\n",
        "nodes_df['normed_degree'] = nodes_df['name'].apply(lambda name: normed_centrality.get(name))\n",
        "\n",
        "eigen_centrality = nx.eigenvector_centrality(graph)\n",
        "nodes_df['eigen_centrality'] = nodes_df['name'].apply(lambda name: eigen_centrality.get(name))\n",
        "\n",
        "centrality_df = nodes_df.filter(['name', 'genre', 'degree', 'normed_degree', 'eigen_centrality'])"
      ]
    },
    {
      "cell_type": "markdown",
      "metadata": {
        "id": "woWwt-8iu8eS"
      },
      "source": [
        "By sorting the centrality_df DataFrame we are now able to identify the top 5 nodes for the different centrality measures (note that degree and normalized degree centrality will give the same result)."
      ]
    },
    {
      "cell_type": "code",
      "execution_count": 10,
      "metadata": {
        "colab": {
          "base_uri": "https://localhost:8080/"
        },
        "id": "wId3UE2BsjbL",
        "outputId": "80a478ff-7465-4ff4-ef9c-00dec4454218"
      },
      "outputs": [
        {
          "name": "stdout",
          "output_type": "stream",
          "text": [
            "                name                   genre  degree  normed_degree  \\\n",
            "18411       J Balvin  reggaeton & latin trap    24.0       0.292683   \n",
            "606      Nicki Minaj                 hip hop    23.0       0.280488   \n",
            "17754   David Guetta                     edm    19.0       0.231707   \n",
            "13879     The Weeknd                     pop    19.0       0.231707   \n",
            "6237   Justin Bieber                     pop    18.0       0.219512   \n",
            "\n",
            "       eigen_centrality  \n",
            "18411          0.284187  \n",
            "606            0.259155  \n",
            "17754          0.177515  \n",
            "13879          0.188099  \n",
            "6237           0.193040  \n"
          ]
        }
      ],
      "source": [
        "# Shows top 5 artists by normalized degree centrality\n",
        "print(centrality_df.sort_values(by = 'normed_degree', ascending = False).head())"
      ]
    },
    {
      "cell_type": "code",
      "execution_count": 11,
      "metadata": {
        "colab": {
          "base_uri": "https://localhost:8080/"
        },
        "id": "ui0AeydAb4NN",
        "outputId": "47bc3d8e-68cb-482b-c51e-ec535fbc3cf5"
      },
      "outputs": [
        {
          "name": "stdout",
          "output_type": "stream",
          "text": [
            "              name                   genre  degree  normed_degree  \\\n",
            "18411     J Balvin  reggaeton & latin trap    24.0       0.292683   \n",
            "606    Nicki Minaj                 hip hop    23.0       0.280488   \n",
            "11203    Bad Bunny  reggaeton & latin trap    15.0       0.182927   \n",
            "7897       Farruko  reggaeton & latin trap    15.0       0.182927   \n",
            "5014         Ozuna  reggaeton & latin trap    16.0       0.195122   \n",
            "\n",
            "       eigen_centrality  \n",
            "18411          0.284187  \n",
            "606            0.259155  \n",
            "11203          0.225474  \n",
            "7897           0.217232  \n",
            "5014           0.211990  \n"
          ]
        }
      ],
      "source": [
        "# Shows top 5 artists by eigenvector centrality\n",
        "print(centrality_df.sort_values(by = 'eigen_centrality', ascending = False).head())"
      ]
    },
    {
      "cell_type": "markdown",
      "metadata": {
        "id": "2WFiZb_fLm19"
      },
      "source": [
        "# Highest Centrality Genres"
      ]
    },
    {
      "cell_type": "markdown",
      "metadata": {
        "id": "m28i0glrvVod"
      },
      "source": [
        "By grouping the data frame by genre, we can compare average and median degree and eigenvector centrality across genres."
      ]
    },
    {
      "cell_type": "code",
      "execution_count": 12,
      "metadata": {
        "colab": {
          "base_uri": "https://localhost:8080/"
        },
        "id": "-TOu_d8Hlhal",
        "outputId": "ca9048e2-5af1-410a-d07e-4c460eac0045"
      },
      "outputs": [
        {
          "name": "stdout",
          "output_type": "stream",
          "text": [
            "Means:\n",
            "                           degree  normed_degree  eigen_centrality\n",
            "genre                                                             \n",
            "desi pop                 3.666667       0.044715          0.007596\n",
            "edm                      8.000000       0.097561          0.068306\n",
            "hip hop                 10.307692       0.125704          0.120753\n",
            "k_pop                    5.500000       0.067073          0.046654\n",
            "latin music              4.777778       0.058266          0.047272\n",
            "pop                      6.593750       0.080412          0.070235\n",
            "reggaeton & latin trap  13.181818       0.160754          0.183094\n",
            "rock                     2.000000       0.024390          0.015340\n",
            "\n",
            "\n",
            "Medians:\n",
            "                        degree  normed_degree  eigen_centrality\n",
            "genre                                                          \n",
            "desi pop                   4.0       0.048780          0.002993\n",
            "edm                        6.0       0.073171          0.045166\n",
            "hip hop                   11.0       0.134146          0.125747\n",
            "k_pop                      5.5       0.067073          0.046654\n",
            "latin music                3.0       0.036585          0.008677\n",
            "pop                        5.0       0.060976          0.051557\n",
            "reggaeton & latin trap    13.0       0.158537          0.186154\n",
            "rock                       2.0       0.024390          0.020116\n"
          ]
        }
      ],
      "source": [
        "# Calculating mean degree and eigenvector centrality across genres\n",
        "print(\"Means:\")\n",
        "print(centrality_df.groupby('genre')[['degree', 'normed_degree', 'eigen_centrality']].mean())\n",
        "\n",
        "print(\"\\n\")\n",
        "print(\"Medians:\")\n",
        "# Calculating median degree and eigenvector centrality across genres\n",
        "print(centrality_df.groupby('genre')[['degree', 'normed_degree', 'eigen_centrality']].median())"
      ]
    },
    {
      "cell_type": "markdown",
      "metadata": {
        "id": "xs8svLmRvxWV"
      },
      "source": [
        "Regardless of whether the mean or median is considered, and regardless of whether we use degree centrality or eigenvector centrality, Hip Hop and Reggaeton/Latin Trap have the highest centrality. This is consistent with what we would expect from the structure of the data, edges represent features and these two genres have well established norms of collaboration between artists.\n",
        "\n",
        "Additionally, regardless of whether the mean or median is concerned, Rock music has the lowest degree centrality and Desi Pop has the lowest eigenvector centrality. Again, this matches our expectations, rock does not have an established norm of collaboration between artists, and Desi Pop artists mostly collaborate within their own genre, as shown below."
      ]
    },
    {
      "cell_type": "code",
      "execution_count": 13,
      "metadata": {
        "colab": {
          "base_uri": "https://localhost:8080/"
        },
        "id": "lNpd5KCVF0rw",
        "outputId": "386e7b26-2696-49f3-e981-1762e193bf49"
      },
      "outputs": [
        {
          "name": "stdout",
          "output_type": "stream",
          "text": [
            "Rock Artists:\n",
            "['Queen' 'Imagine Dragons' \"Guns N' Roses\" 'AC/DC' 'The Beatles'\n",
            " 'Twenty One Pilots' 'Metallica' 'Linkin Park' 'Red Hot Chili Peppers'\n",
            " 'Pink Floyd' 'Nirvana' 'Arctic Monkeys' 'Green Day']\n",
            "\n",
            "Rock Features:\n",
            "                   id_0             id_1\n",
            "631              Avicii  Imagine Dragons\n",
            "85156   Imagine Dragons           Khalid\n",
            "109734            Queen        Metallica\n",
            "147474   Kendrick Lamar  Imagine Dragons\n",
            "181672         J Balvin        Metallica\n",
            "\n",
            "\n",
            "Desi Pop Artists:\n",
            "['Arijit Singh' 'Neha Kakkar' 'A.R. Rahman' 'Badshah' 'Armaan Malik'\n",
            " 'Shreya Ghoshal']\n",
            "\n",
            "Desi Pop Features:\n",
            "                  id_0          id_1\n",
            "31593          Badshah   Neha Kakkar\n",
            "47258          Badshah      J Balvin\n",
            "52073      A.R. Rahman  Arijit Singh\n",
            "59722      A.R. Rahman  Armaan Malik\n",
            "68874   Shreya Ghoshal  Arijit Singh\n",
            "111338         Badshah  Arijit Singh\n",
            "162760    Armaan Malik    Ed Sheeran\n",
            "174105  Shreya Ghoshal   A.R. Rahman\n",
            "181744    Arijit Singh   Neha Kakkar\n",
            "242986  Shreya Ghoshal   Neha Kakkar\n",
            "270961         Badshah   A.R. Rahman\n",
            "299907  Shreya Ghoshal  Armaan Malik\n"
          ]
        }
      ],
      "source": [
        "print(\"Rock Artists:\")\n",
        "\n",
        "rock_artists = nodes_df[nodes_df['genre'] == 'rock']['name'].unique()\n",
        "print(rock_artists)\n",
        "\n",
        "print(\"\\nRock Features:\")\n",
        "rock_features = edges_df[edges_df['id_0'].isin(rock_artists) | edges_df['id_1'].isin(rock_artists)]\n",
        "print(rock_features)\n",
        "\n",
        "print(\"\\n\\nDesi Pop Artists:\")\n",
        "\n",
        "desi_artists = nodes_df[nodes_df['genre'] == 'desi pop']['name'].unique()\n",
        "print(desi_artists)\n",
        "\n",
        "print(\"\\nDesi Pop Features:\")\n",
        "desi_features = edges_df[edges_df['id_0'].isin(desi_artists) | edges_df['id_1'].isin(desi_artists)]\n",
        "print(desi_features)"
      ]
    },
    {
      "cell_type": "markdown",
      "metadata": {
        "id": "TKoOPLMbGErB"
      },
      "source": [
        "There are 13 rock artists included in the data and only 3 of them are involved in any features (Queen, Metallica, and Imagine Dragons). There are only 6 Desi Pop artists, but they collaborate within their genre quite a bit, each of the 6 artists is involved in a feature with another Desi Pop artist. However, there are only two collaborations involving a Desi Pop artist and an artist from another genre (Badshah's collaboration with J Balvin, and Armaan Malik's collaboration with Ed Sheeran).\n",
        "\n",
        "This demonstrates the difference between degree centrality and eigenvector centrality, the median Desi Pop artist in the data set has more collaborations than the median Rock artist, but because two of the three Rock Artists have collaborations with popular artists from other genres, the mean and median eigenvector centrality for Rock artists is higher than the mean and median eigenvector centrality for Desi Pop artists."
      ]
    }
  ],
  "metadata": {
    "colab": {
      "provenance": []
    },
    "kernelspec": {
      "display_name": "Python 3",
      "name": "python3"
    },
    "language_info": {
      "codemirror_mode": {
        "name": "ipython",
        "version": 3
      },
      "file_extension": ".py",
      "mimetype": "text/x-python",
      "name": "python",
      "nbconvert_exporter": "python",
      "pygments_lexer": "ipython3",
      "version": "3.11.1"
    }
  },
  "nbformat": 4,
  "nbformat_minor": 0
}
