{
 "cells": [
  {
   "cell_type": "markdown",
   "metadata": {},
   "source": [
    "# Final Project"
   ]
  },
  {
   "cell_type": "markdown",
   "metadata": {},
   "source": [
    "Molly Siebecker and Marley Myrianthopoulos\n",
    "\n",
    "CUNY SPS\n",
    "\n",
    "DATA 620\n",
    "\n",
    "Summer 2024"
   ]
  },
  {
   "cell_type": "code",
   "execution_count": 8,
   "metadata": {},
   "outputs": [
    {
     "name": "stdout",
     "output_type": "stream",
     "text": [
      "   rank                     title            author  \\\n",
      "0     1       My Brilliant Friend    Elena Ferrante   \n",
      "1     2  The Warmth of Other Suns  Isabel Wilkerson   \n",
      "2     3                 Wolf Hall     Hilary Mantel   \n",
      "3     4           The Known World   Edward P. Jones   \n",
      "4     5           The Corrections  Jonathan Franzen   \n",
      "\n",
      "                                               blurb   author_blurb  \\\n",
      "0  The first volume of what would become Ferrante...            NaN   \n",
      "1  Wilkerson’s intimate, stirring, meticulously r...  Dwight Garner   \n",
      "2  It was hard choosing the books for my list, bu...   Lev Grossman   \n",
      "3  This novel, about a Black farmer, bootmaker an...  Dwight Garner   \n",
      "4  With its satirical take on mental health, self...            NaN   \n",
      "\n",
      "                                    additional_blurb author_additional_blurb  \n",
      "0                                                NaN                     NaN  \n",
      "1                                                NaN                     NaN  \n",
      "2                                                NaN                     NaN  \n",
      "3                                                NaN                     NaN  \n",
      "4  Sometimes we have a totemic connection to a bo...         Chris Bohjalian  \n"
     ]
    }
   ],
   "source": [
    "# Import required libraries and data\n",
    "import pandas as pd\n",
    "import networkx as nx\n",
    "from networkx.algorithms import bipartite\n",
    "import matplotlib.pyplot as plt\n",
    "import itertools\n",
    "\n",
    "rankings_url = \"https://raw.githubusercontent.com/Marley-Myrianthopoulos/cunysps_data620/main/final/nyt_100_books_21st_century.csv\"\n",
    "rankings = pd.read_csv(rankings_url)\n",
    "print(rankings.head())"
   ]
  },
  {
   "cell_type": "code",
   "execution_count": 9,
   "metadata": {},
   "outputs": [
    {
     "name": "stdout",
     "output_type": "stream",
     "text": [
      "                 voter profession                      book _1  \\\n",
      "0         Stephen King     author                    Atonement   \n",
      "1          Min Jin Lee     author  All the Light We Cannot See   \n",
      "2  Karl Ove Knausgaard     author                         2666   \n",
      "3        Bonnie Garmus     author     Between the World and Me   \n",
      "4    Curtis Sittenfeld     author           The Line of Beauty   \n",
      "\n",
      "            author_1                        book _2            author_2  \\\n",
      "0         Ian McEwan                Christine Falls      Benjamin Black   \n",
      "1      Anthony Doerr  Behind the Beautiful Forevers       Katherine Boo   \n",
      "2     Roberto Bolano                  The Argonauts       Maggie Nelson   \n",
      "3   Ta-Nehisi Coates               Demon Copperhead  Barbara Kingsolver   \n",
      "4  Alan Hollinghurst                    A Lucky Man      Jamel Brinkley   \n",
      "\n",
      "                   book _3        author_3                  book _4  \\\n",
      "0            The Goldfinch     Donna Tartt                Gone Girl   \n",
      "1                 Brooklyn     Colm Toibin  The Buddha in the Attic   \n",
      "2  The Days of Abandonment  Elena Ferrante       The Flame Alphabet   \n",
      "3                 Educated   Tara Westover                   Genome   \n",
      "4                    Trust     Hernan Diaz             Great Circle   \n",
      "\n",
      "           author_4  ...                                    book _6  \\\n",
      "0     Gillian Flynn  ...                             Oryx and Crake   \n",
      "1      Julie Otsuka  ...                                    Evicted   \n",
      "2        Ben Marcus  ...                            Never Let Me Go   \n",
      "3       Matt Ridley  ...  A Heartbreaking Work of Staggering Genius   \n",
      "4  Maggie Shipstead  ...                          Everything's Fine   \n",
      "\n",
      "          author_6                              book _7             author_7  \\\n",
      "0  Margaret Atwood                    The Paying Guests         Sarah Waters   \n",
      "1  Matthew Desmond                               Gilead   Marilynne Robinson   \n",
      "2   Kazuo Ishiguro              Small Things Like These        Claire Keegan   \n",
      "3      Dave Eggers          Henry David Thoreau: A Life   Laura Dassow Walls   \n",
      "4   Cecilia Rabess  I Love You but I've Chosen Darkness  Claire Vaye Watkins   \n",
      "\n",
      "                    book _8         author_8                   book _9  \\\n",
      "0  The Plot Against America      Philip Roth           The Sympathizer   \n",
      "1           The Known World  Edward P. Jones          Nickel and Dimed   \n",
      "2               Storm Still     Peter Handke              Train Dreams   \n",
      "3          Pobby and Dingan         Ben Rice  The Underground Railroad   \n",
      "4               Swift River   Essie Chambers             Sea Creatures   \n",
      "\n",
      "             author_9                        book _10            author_10  \n",
      "0   Viet Thanh Nguyen                  Under the Dome         Stephen King  \n",
      "1  Barbara Ehrenreich                    Redeployment            Phil Klay  \n",
      "2       Denis Johnson           Voices from Chernobyl  Svetlana Alexievich  \n",
      "3    Colson Whitehead             The Worst Hard Time         Timothy Egan  \n",
      "4      Susanna Daniel  Make Your Home Among Strangers  Jennine Capo Crucet  \n",
      "\n",
      "[5 rows x 22 columns]\n"
     ]
    }
   ],
   "source": [
    "ballots_url = \"https://raw.githubusercontent.com/Marley-Myrianthopoulos/cunysps_data620/main/final/nyt_100_books_ballots.csv\"\n",
    "ballots = pd.read_csv(ballots_url)\n",
    "print(ballots.head())"
   ]
  },
  {
   "cell_type": "code",
   "execution_count": 10,
   "metadata": {},
   "outputs": [
    {
     "name": "stdout",
     "output_type": "stream",
     "text": [
      "Columns in DataFrame: ['voter', 'profession', 'book _1', 'author_1', 'book _2', 'author_2', 'book _3', 'author_3', 'book _4', 'author_4', 'book _5', 'author_5', 'book _6', 'author_6', 'book _7', 'author_7', 'book _8', 'author_8', 'book _9', 'author_9', 'book _10', 'author_10']\n"
     ]
    }
   ],
   "source": [
    "print(\"Columns in DataFrame:\", ballots.columns.tolist())\n"
   ]
  },
  {
   "cell_type": "code",
   "execution_count": 11,
   "metadata": {},
   "outputs": [
    {
     "ename": "KeyError",
     "evalue": "('voter', 'profession', 'book_1', 'book_2', 'book_3', 'book_4', 'book_5', 'book_6', 'book_7', 'book_8', 'book_9', 'book_10')",
     "output_type": "error",
     "traceback": [
      "\u001b[0;31m---------------------------------------------------------------------------\u001b[0m",
      "\u001b[0;31mKeyError\u001b[0m                                  Traceback (most recent call last)",
      "File \u001b[0;32m~/.virtualenvs/env_620/lib/python3.12/site-packages/pandas/core/indexes/base.py:3805\u001b[0m, in \u001b[0;36mIndex.get_loc\u001b[0;34m(self, key)\u001b[0m\n\u001b[1;32m   3804\u001b[0m \u001b[38;5;28;01mtry\u001b[39;00m:\n\u001b[0;32m-> 3805\u001b[0m     \u001b[38;5;28;01mreturn\u001b[39;00m \u001b[38;5;28;43mself\u001b[39;49m\u001b[38;5;241;43m.\u001b[39;49m\u001b[43m_engine\u001b[49m\u001b[38;5;241;43m.\u001b[39;49m\u001b[43mget_loc\u001b[49m\u001b[43m(\u001b[49m\u001b[43mcasted_key\u001b[49m\u001b[43m)\u001b[49m\n\u001b[1;32m   3806\u001b[0m \u001b[38;5;28;01mexcept\u001b[39;00m \u001b[38;5;167;01mKeyError\u001b[39;00m \u001b[38;5;28;01mas\u001b[39;00m err:\n",
      "File \u001b[0;32mindex.pyx:167\u001b[0m, in \u001b[0;36mpandas._libs.index.IndexEngine.get_loc\u001b[0;34m()\u001b[0m\n",
      "File \u001b[0;32mindex.pyx:196\u001b[0m, in \u001b[0;36mpandas._libs.index.IndexEngine.get_loc\u001b[0;34m()\u001b[0m\n",
      "File \u001b[0;32mpandas/_libs/hashtable_class_helper.pxi:7081\u001b[0m, in \u001b[0;36mpandas._libs.hashtable.PyObjectHashTable.get_item\u001b[0;34m()\u001b[0m\n",
      "File \u001b[0;32mpandas/_libs/hashtable_class_helper.pxi:7089\u001b[0m, in \u001b[0;36mpandas._libs.hashtable.PyObjectHashTable.get_item\u001b[0;34m()\u001b[0m\n",
      "\u001b[0;31mKeyError\u001b[0m: ('voter', 'profession', 'book_1', 'book_2', 'book_3', 'book_4', 'book_5', 'book_6', 'book_7', 'book_8', 'book_9', 'book_10')",
      "\nThe above exception was the direct cause of the following exception:\n",
      "\u001b[0;31mKeyError\u001b[0m                                  Traceback (most recent call last)",
      "Cell \u001b[0;32mIn[11], line 1\u001b[0m\n\u001b[0;32m----> 1\u001b[0m author_to_book \u001b[38;5;241m=\u001b[39m \u001b[43mballots\u001b[49m\u001b[43m[\u001b[49m\u001b[38;5;124;43m'\u001b[39;49m\u001b[38;5;124;43mvoter\u001b[39;49m\u001b[38;5;124;43m'\u001b[39;49m\u001b[43m,\u001b[49m\u001b[43m \u001b[49m\u001b[38;5;124;43m'\u001b[39;49m\u001b[38;5;124;43mprofession\u001b[39;49m\u001b[38;5;124;43m'\u001b[39;49m\u001b[43m,\u001b[49m\u001b[43m \u001b[49m\u001b[38;5;124;43m'\u001b[39;49m\u001b[38;5;124;43mbook_1\u001b[39;49m\u001b[38;5;124;43m'\u001b[39;49m\u001b[43m,\u001b[49m\u001b[43m \u001b[49m\u001b[38;5;124;43m'\u001b[39;49m\u001b[38;5;124;43mbook_2\u001b[39;49m\u001b[38;5;124;43m'\u001b[39;49m\u001b[43m,\u001b[49m\u001b[43m \u001b[49m\u001b[38;5;124;43m'\u001b[39;49m\u001b[38;5;124;43mbook_3\u001b[39;49m\u001b[38;5;124;43m'\u001b[39;49m\u001b[43m,\u001b[49m\u001b[43m \u001b[49m\u001b[38;5;124;43m'\u001b[39;49m\u001b[38;5;124;43mbook_4\u001b[39;49m\u001b[38;5;124;43m'\u001b[39;49m\u001b[43m,\u001b[49m\u001b[43m \u001b[49m\u001b[38;5;124;43m'\u001b[39;49m\u001b[38;5;124;43mbook_5\u001b[39;49m\u001b[38;5;124;43m'\u001b[39;49m\u001b[43m,\u001b[49m\u001b[43m \u001b[49m\u001b[38;5;124;43m'\u001b[39;49m\u001b[38;5;124;43mbook_6\u001b[39;49m\u001b[38;5;124;43m'\u001b[39;49m\u001b[43m,\u001b[49m\u001b[43m \u001b[49m\u001b[38;5;124;43m'\u001b[39;49m\u001b[38;5;124;43mbook_7\u001b[39;49m\u001b[38;5;124;43m'\u001b[39;49m\u001b[43m,\u001b[49m\u001b[43m \u001b[49m\u001b[38;5;124;43m'\u001b[39;49m\u001b[38;5;124;43mbook_8\u001b[39;49m\u001b[38;5;124;43m'\u001b[39;49m\u001b[43m,\u001b[49m\u001b[43m \u001b[49m\u001b[38;5;124;43m'\u001b[39;49m\u001b[38;5;124;43mbook_9\u001b[39;49m\u001b[38;5;124;43m'\u001b[39;49m\u001b[43m,\u001b[49m\u001b[43m \u001b[49m\u001b[38;5;124;43m'\u001b[39;49m\u001b[38;5;124;43mbook_10\u001b[39;49m\u001b[38;5;124;43m'\u001b[39;49m\u001b[43m]\u001b[49m\n",
      "File \u001b[0;32m~/.virtualenvs/env_620/lib/python3.12/site-packages/pandas/core/frame.py:4102\u001b[0m, in \u001b[0;36mDataFrame.__getitem__\u001b[0;34m(self, key)\u001b[0m\n\u001b[1;32m   4100\u001b[0m \u001b[38;5;28;01mif\u001b[39;00m \u001b[38;5;28mself\u001b[39m\u001b[38;5;241m.\u001b[39mcolumns\u001b[38;5;241m.\u001b[39mnlevels \u001b[38;5;241m>\u001b[39m \u001b[38;5;241m1\u001b[39m:\n\u001b[1;32m   4101\u001b[0m     \u001b[38;5;28;01mreturn\u001b[39;00m \u001b[38;5;28mself\u001b[39m\u001b[38;5;241m.\u001b[39m_getitem_multilevel(key)\n\u001b[0;32m-> 4102\u001b[0m indexer \u001b[38;5;241m=\u001b[39m \u001b[38;5;28;43mself\u001b[39;49m\u001b[38;5;241;43m.\u001b[39;49m\u001b[43mcolumns\u001b[49m\u001b[38;5;241;43m.\u001b[39;49m\u001b[43mget_loc\u001b[49m\u001b[43m(\u001b[49m\u001b[43mkey\u001b[49m\u001b[43m)\u001b[49m\n\u001b[1;32m   4103\u001b[0m \u001b[38;5;28;01mif\u001b[39;00m is_integer(indexer):\n\u001b[1;32m   4104\u001b[0m     indexer \u001b[38;5;241m=\u001b[39m [indexer]\n",
      "File \u001b[0;32m~/.virtualenvs/env_620/lib/python3.12/site-packages/pandas/core/indexes/base.py:3812\u001b[0m, in \u001b[0;36mIndex.get_loc\u001b[0;34m(self, key)\u001b[0m\n\u001b[1;32m   3807\u001b[0m     \u001b[38;5;28;01mif\u001b[39;00m \u001b[38;5;28misinstance\u001b[39m(casted_key, \u001b[38;5;28mslice\u001b[39m) \u001b[38;5;129;01mor\u001b[39;00m (\n\u001b[1;32m   3808\u001b[0m         \u001b[38;5;28misinstance\u001b[39m(casted_key, abc\u001b[38;5;241m.\u001b[39mIterable)\n\u001b[1;32m   3809\u001b[0m         \u001b[38;5;129;01mand\u001b[39;00m \u001b[38;5;28many\u001b[39m(\u001b[38;5;28misinstance\u001b[39m(x, \u001b[38;5;28mslice\u001b[39m) \u001b[38;5;28;01mfor\u001b[39;00m x \u001b[38;5;129;01min\u001b[39;00m casted_key)\n\u001b[1;32m   3810\u001b[0m     ):\n\u001b[1;32m   3811\u001b[0m         \u001b[38;5;28;01mraise\u001b[39;00m InvalidIndexError(key)\n\u001b[0;32m-> 3812\u001b[0m     \u001b[38;5;28;01mraise\u001b[39;00m \u001b[38;5;167;01mKeyError\u001b[39;00m(key) \u001b[38;5;28;01mfrom\u001b[39;00m \u001b[38;5;21;01merr\u001b[39;00m\n\u001b[1;32m   3813\u001b[0m \u001b[38;5;28;01mexcept\u001b[39;00m \u001b[38;5;167;01mTypeError\u001b[39;00m:\n\u001b[1;32m   3814\u001b[0m     \u001b[38;5;66;03m# If we have a listlike key, _check_indexing_error will raise\u001b[39;00m\n\u001b[1;32m   3815\u001b[0m     \u001b[38;5;66;03m#  InvalidIndexError. Otherwise we fall through and re-raise\u001b[39;00m\n\u001b[1;32m   3816\u001b[0m     \u001b[38;5;66;03m#  the TypeError.\u001b[39;00m\n\u001b[1;32m   3817\u001b[0m     \u001b[38;5;28mself\u001b[39m\u001b[38;5;241m.\u001b[39m_check_indexing_error(key)\n",
      "\u001b[0;31mKeyError\u001b[0m: ('voter', 'profession', 'book_1', 'book_2', 'book_3', 'book_4', 'book_5', 'book_6', 'book_7', 'book_8', 'book_9', 'book_10')"
     ]
    }
   ],
   "source": [
    "author_to_book = ballots['voter', 'profession', 'book_1', 'book_2', 'book_3', 'book_4', 'book_5', 'book_6', 'book_7', 'book_8', 'book_9', 'book_10']"
   ]
  }
 ],
 "metadata": {
  "kernelspec": {
   "display_name": "env_620",
   "language": "python",
   "name": "python3"
  },
  "language_info": {
   "codemirror_mode": {
    "name": "ipython",
    "version": 3
   },
   "file_extension": ".py",
   "mimetype": "text/x-python",
   "name": "python",
   "nbconvert_exporter": "python",
   "pygments_lexer": "ipython3",
   "version": "3.12.1"
  }
 },
 "nbformat": 4,
 "nbformat_minor": 2
}
