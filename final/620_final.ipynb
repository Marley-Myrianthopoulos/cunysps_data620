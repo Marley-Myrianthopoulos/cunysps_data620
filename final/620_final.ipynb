{
 "cells": [
  {
   "cell_type": "markdown",
   "metadata": {},
   "source": [
    "# Final Project"
   ]
  },
  {
   "cell_type": "markdown",
   "metadata": {},
   "source": [
    "Molly Siebecker and Marley Myrianthopoulos\n",
    "\n",
    "CUNY SPS\n",
    "\n",
    "DATA 620\n",
    "\n",
    "Summer 2024"
   ]
  },
  {
   "cell_type": "code",
   "execution_count": 1,
   "metadata": {},
   "outputs": [
    {
     "name": "stdout",
     "output_type": "stream",
     "text": [
      "   rank                     title            author  \\\n",
      "0     1       My Brilliant Friend    Elena Ferrante   \n",
      "1     2  The Warmth of Other Suns  Isabel Wilkerson   \n",
      "2     3                 Wolf Hall     Hilary Mantel   \n",
      "3     4           The Known World   Edward P. Jones   \n",
      "4     5           The Corrections  Jonathan Franzen   \n",
      "\n",
      "                                               blurb   author_blurb  \\\n",
      "0  The first volume of what would become Ferrante...            NaN   \n",
      "1  Wilkerson’s intimate, stirring, meticulously r...  Dwight Garner   \n",
      "2  It was hard choosing the books for my list, bu...   Lev Grossman   \n",
      "3  This novel, about a Black farmer, bootmaker an...  Dwight Garner   \n",
      "4  With its satirical take on mental health, self...            NaN   \n",
      "\n",
      "                                    additional_blurb author_additional_blurb  \n",
      "0                                                NaN                     NaN  \n",
      "1                                                NaN                     NaN  \n",
      "2                                                NaN                     NaN  \n",
      "3                                                NaN                     NaN  \n",
      "4  Sometimes we have a totemic connection to a bo...         Chris Bohjalian  \n"
     ]
    }
   ],
   "source": [
    "# Import required libraries and data\n",
    "import pandas as pd\n",
    "import networkx as nx\n",
    "from networkx.algorithms import bipartite\n",
    "import matplotlib.pyplot as plt\n",
    "import itertools\n",
    "\n",
    "rankings_url = \"https://raw.githubusercontent.com/Marley-Myrianthopoulos/cunysps_data620/main/final/nyt_100_books_21st_century.csv\"\n",
    "rankings = pd.read_csv(rankings_url)\n",
    "print(rankings.head())"
   ]
  },
  {
   "cell_type": "code",
   "execution_count": 2,
   "metadata": {},
   "outputs": [
    {
     "name": "stdout",
     "output_type": "stream",
     "text": [
      "                 voter profession                      book _1  \\\n",
      "0         Stephen King     author                    Atonement   \n",
      "1          Min Jin Lee     author  All the Light We Cannot See   \n",
      "2  Karl Ove Knausgaard     author                         2666   \n",
      "3        Bonnie Garmus     author     Between the World and Me   \n",
      "4    Curtis Sittenfeld     author           The Line of Beauty   \n",
      "\n",
      "            author_1                        book _2            author_2  \\\n",
      "0         Ian McEwan                Christine Falls      Benjamin Black   \n",
      "1      Anthony Doerr  Behind the Beautiful Forevers       Katherine Boo   \n",
      "2     Roberto Bolano                  The Argonauts       Maggie Nelson   \n",
      "3   Ta-Nehisi Coates               Demon Copperhead  Barbara Kingsolver   \n",
      "4  Alan Hollinghurst                    A Lucky Man      Jamel Brinkley   \n",
      "\n",
      "                   book _3        author_3                  book _4  \\\n",
      "0            The Goldfinch     Donna Tartt                Gone Girl   \n",
      "1                 Brooklyn     Colm Toibin  The Buddha in the Attic   \n",
      "2  The Days of Abandonment  Elena Ferrante       The Flame Alphabet   \n",
      "3                 Educated   Tara Westover                   Genome   \n",
      "4                    Trust     Hernan Diaz             Great Circle   \n",
      "\n",
      "           author_4  ...                                    book _6  \\\n",
      "0     Gillian Flynn  ...                             Oryx and Crake   \n",
      "1      Julie Otsuka  ...                                    Evicted   \n",
      "2        Ben Marcus  ...                            Never Let Me Go   \n",
      "3       Matt Ridley  ...  A Heartbreaking Work of Staggering Genius   \n",
      "4  Maggie Shipstead  ...                          Everything's Fine   \n",
      "\n",
      "          author_6                              book _7             author_7  \\\n",
      "0  Margaret Atwood                    The Paying Guests         Sarah Waters   \n",
      "1  Matthew Desmond                               Gilead   Marilynne Robinson   \n",
      "2   Kazuo Ishiguro              Small Things Like These        Claire Keegan   \n",
      "3      Dave Eggers          Henry David Thoreau: A Life   Laura Dassow Walls   \n",
      "4   Cecilia Rabess  I Love You but I've Chosen Darkness  Claire Vaye Watkins   \n",
      "\n",
      "                    book _8         author_8                   book _9  \\\n",
      "0  The Plot Against America      Philip Roth           The Sympathizer   \n",
      "1           The Known World  Edward P. Jones          Nickel and Dimed   \n",
      "2               Storm Still     Peter Handke              Train Dreams   \n",
      "3          Pobby and Dingan         Ben Rice  The Underground Railroad   \n",
      "4               Swift River   Essie Chambers             Sea Creatures   \n",
      "\n",
      "             author_9                        book _10            author_10  \n",
      "0   Viet Thanh Nguyen                  Under the Dome         Stephen King  \n",
      "1  Barbara Ehrenreich                    Redeployment            Phil Klay  \n",
      "2       Denis Johnson           Voices from Chernobyl  Svetlana Alexievich  \n",
      "3    Colson Whitehead             The Worst Hard Time         Timothy Egan  \n",
      "4      Susanna Daniel  Make Your Home Among Strangers  Jennine Capo Crucet  \n",
      "\n",
      "[5 rows x 22 columns]\n"
     ]
    }
   ],
   "source": [
    "ballots_url = \"https://raw.githubusercontent.com/Marley-Myrianthopoulos/cunysps_data620/main/final/nyt_100_books_ballots.csv\"\n",
    "ballots = pd.read_csv(ballots_url)\n",
    "print(ballots.head())"
   ]
  }
 ],
 "metadata": {
  "kernelspec": {
   "display_name": "env_620",
   "language": "python",
   "name": "python3"
  },
  "language_info": {
   "codemirror_mode": {
    "name": "ipython",
    "version": 3
   },
   "file_extension": ".py",
   "mimetype": "text/x-python",
   "name": "python",
   "nbconvert_exporter": "python",
   "pygments_lexer": "ipython3",
   "version": "3.12.1"
  }
 },
 "nbformat": 4,
 "nbformat_minor": 2
}
