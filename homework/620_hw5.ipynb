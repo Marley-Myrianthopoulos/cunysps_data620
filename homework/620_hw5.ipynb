{
 "cells": [
  {
   "cell_type": "code",
   "execution_count": 127,
   "metadata": {},
   "outputs": [],
   "source": [
    "import nltk\n",
    "import re\n",
    "from nltk.corpus import inaugural\n",
    "from nltk.text import Text\n",
    "from nltk.tokenize import word_tokenize"
   ]
  },
  {
   "cell_type": "code",
   "execution_count": 128,
   "metadata": {},
   "outputs": [
    {
     "name": "stdout",
     "output_type": "stream",
     "text": [
      "<Text: Fellow - Citizens of the Senate and of...>\n"
     ]
    }
   ],
   "source": [
    "words = inaugural.words()\n",
    "inaugural_text = Text(words)\n",
    "print(inaugural_text)\n",
    "\n",
    "pattern_comma_number = re.compile(r'(\\d),(?=\\d)')\n",
    "\n",
    "inaugural_text = str(inaugural_text)\n",
    "\n",
    "numbers_standardized = re.sub(pattern_comma_number, r'\\1', inaugural_text)\n",
    "numbers_standardized = word_tokenize(numbers_standardized)"
   ]
  },
  {
   "cell_type": "code",
   "execution_count": 129,
   "metadata": {},
   "outputs": [],
   "source": [
    "lowercase_text = ' '.join(word.lower() for word in numbers_standardized)\n",
    "text_standardized = str(word_tokenize(lowercase_text))\n"
   ]
  },
  {
   "cell_type": "code",
   "execution_count": 130,
   "metadata": {},
   "outputs": [
    {
     "data": {
      "text/plain": [
       "['and', 'citizens', 'fellow', 'of', 'senate', 'text', 'the']"
      ]
     },
     "execution_count": 130,
     "metadata": {},
     "output_type": "execute_result"
    }
   ],
   "source": [
    "pattern_num_alpha_apos = re.compile(r\"\\b[a-zA-Z0-9']+\\b\")\n",
    "\n",
    "inaugural_words = re.findall(pattern_num_alpha_apos, text_standardized)\n",
    "inaugural_set_filtered = {word for word in inaugural_words if pattern_num_alpha_apos.match(word)}\n",
    "sorted(inaugural_set_filtered)"
   ]
  },
  {
   "cell_type": "code",
   "execution_count": 131,
   "metadata": {},
   "outputs": [],
   "source": [
    "from num2words import num2words"
   ]
  },
  {
   "cell_type": "code",
   "execution_count": 132,
   "metadata": {},
   "outputs": [
    {
     "name": "stdout",
     "output_type": "stream",
     "text": [
      "one hundred thousand\n"
     ]
    }
   ],
   "source": [
    "test_string = '100,000'\n",
    "pattern_comma_number = re.compile(r'(\\d),(?=\\d)')\n",
    "print(num2words(re.sub(pattern_comma_number, r'\\1', test_string)))"
   ]
  },
  {
   "cell_type": "code",
   "execution_count": 133,
   "metadata": {},
   "outputs": [
    {
     "name": "stdout",
     "output_type": "stream",
     "text": [
      "12 and 34 and 1256653\n"
     ]
    }
   ],
   "source": [
    "pattern_comma_number = re.compile(r'(\\d),(?=\\d)')\n",
    "pattern_test = '1,2 and 3,4 and 1,256,653'\n",
    "print(re.sub(pattern_comma_number, r'\\1', pattern_test))"
   ]
  },
  {
   "cell_type": "code",
   "execution_count": 134,
   "metadata": {},
   "outputs": [
    {
     "data": {
      "text/plain": [
       "['<',\n",
       " 'text',\n",
       " ':',\n",
       " 'fellow',\n",
       " '-',\n",
       " 'citizens',\n",
       " 'of',\n",
       " 'the',\n",
       " 'senate',\n",
       " 'and',\n",
       " 'of',\n",
       " '...',\n",
       " '>']"
      ]
     },
     "execution_count": 134,
     "metadata": {},
     "output_type": "execute_result"
    }
   ],
   "source": [
    "pattern_comma_number = re.compile(r'(\\d),(?=\\d)')\n",
    "\n",
    "numbers_standardized = re.sub(pattern_comma_number, r'\\1', lowercase_text)\n",
    "numbers_standardized = word_tokenize(numbers_standardized)\n",
    "numbers_standardized"
   ]
  }
 ],
 "metadata": {
  "kernelspec": {
   "display_name": "env_cunysps_data620",
   "language": "python",
   "name": "python3"
  },
  "language_info": {
   "codemirror_mode": {
    "name": "ipython",
    "version": 3
   },
   "file_extension": ".py",
   "mimetype": "text/x-python",
   "name": "python",
   "nbconvert_exporter": "python",
   "pygments_lexer": "ipython3",
   "version": "3.11.1"
  }
 },
 "nbformat": 4,
 "nbformat_minor": 2
}
