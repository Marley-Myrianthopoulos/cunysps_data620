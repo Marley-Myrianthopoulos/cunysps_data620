{
  "cells": [
    {
      "cell_type": "markdown",
      "metadata": {
        "id": "LJbQpuI9rS4i"
      },
      "source": [
        "# Week 2 Assignment 2: Centrality Measures"
      ]
    },
    {
      "cell_type": "markdown",
      "metadata": {
        "id": "d4h0OuRYbVSD"
      },
      "source": [
        "Molly Siebecker and Marley Myrianthopoulos\n",
        "\n",
        "CUNY SPS\n",
        "\n",
        "DATA 620\n",
        "\n",
        "Summer 2024"
      ]
    },
    {
      "cell_type": "markdown",
      "metadata": {
        "id": "JGg_PJc2bRKB"
      },
      "source": [
        "These data sets (one for nodes and one for edges) record connections between Spotify artists, as measured by their features. We obtained the data [here](https://www.kaggle.com/datasets/jfreyberg/spotify-artist-feature-collaboration-network?select=edges.csv), originally taken from the Spotify API. When one artist is featured on another artist's song, that feature is recorded as an undirected link. The nodes data set includes each artist's name, Spotify ID, number of followers, popularity ranking, associated genres, and number of chart hits in various countries. In the edges data set, each observation represents a collaboration between artists. There are two columns, one for each ID of the artists collaborating.\n",
        "\n",
        "Since this data includes over 130,000 artists, we will limit the scope of the investigation to only the most popular artists by filtering the data based on number of Spotify followers. After mapping their connections, we will group them by genre to divide them into categorical groups. We will then compute three measures of centrality (degree centrality, normalized degree centrality, and eigenvector centrality) both for each artist and for each genre. This will allow us to compare which genres have higher levels of collaboration in general, and could hypothetically be used to predict centrality measures for other top artists within a known genre."
      ]
    },
    {
      "cell_type": "code",
      "execution_count": 3,
      "metadata": {
        "id": "sxYbk7JLGxeA"
      },
      "outputs": [],
      "source": [
        "import pandas as pd\n",
        "\n",
        "# Read the edges CSV file into a DataFrame\n",
        "edges_df = pd.read_csv('https://raw.githubusercontent.com/Marley-Myrianthopoulos/cunysps_data620/main/project_1/620_project1_edges.csv')\n",
        "\n",
        "# Read the nodes CSV file into a DataFrame\n",
        "nodes_df = pd.read_csv('https://raw.githubusercontent.com/Marley-Myrianthopoulos/cunysps_data620/main/project_1/620_project1_nodes.csv')\n"
      ]
    },
    {
      "cell_type": "code",
      "execution_count": 4,
      "metadata": {
        "colab": {
          "base_uri": "https://localhost:8080/",
          "height": 258
        },
        "id": "v8yRkSjkNPAM",
        "outputId": "4bd39675-5ddd-4f94-928d-31f03f87db10"
      },
      "outputs": [
        {
          "data": {
            "text/html": [
              "<div>\n",
              "<style scoped>\n",
              "    .dataframe tbody tr th:only-of-type {\n",
              "        vertical-align: middle;\n",
              "    }\n",
              "\n",
              "    .dataframe tbody tr th {\n",
              "        vertical-align: top;\n",
              "    }\n",
              "\n",
              "    .dataframe thead th {\n",
              "        text-align: right;\n",
              "    }\n",
              "</style>\n",
              "<table border=\"1\" class=\"dataframe\">\n",
              "  <thead>\n",
              "    <tr style=\"text-align: right;\">\n",
              "      <th></th>\n",
              "      <th>spotify_id</th>\n",
              "      <th>name</th>\n",
              "      <th>followers</th>\n",
              "      <th>popularity</th>\n",
              "      <th>genres</th>\n",
              "      <th>chart_hits</th>\n",
              "    </tr>\n",
              "  </thead>\n",
              "  <tbody>\n",
              "    <tr>\n",
              "      <th>0</th>\n",
              "      <td>48WvrUGoijadXXCsGocwM4</td>\n",
              "      <td>Byklubben</td>\n",
              "      <td>1738.0</td>\n",
              "      <td>24</td>\n",
              "      <td>['nordic house', 'russelater']</td>\n",
              "      <td>['no (3)']</td>\n",
              "    </tr>\n",
              "    <tr>\n",
              "      <th>1</th>\n",
              "      <td>4lDiJcOJ2GLCK6p9q5BgfK</td>\n",
              "      <td>Kontra K</td>\n",
              "      <td>1999676.0</td>\n",
              "      <td>72</td>\n",
              "      <td>['christlicher rap', 'german hip hop']</td>\n",
              "      <td>['at (44)', 'de (111)', 'lu (22)', 'ch (31)', ...</td>\n",
              "    </tr>\n",
              "    <tr>\n",
              "      <th>2</th>\n",
              "      <td>652XIvIBNGg3C0KIGEJWit</td>\n",
              "      <td>Maxim</td>\n",
              "      <td>34596.0</td>\n",
              "      <td>36</td>\n",
              "      <td>[]</td>\n",
              "      <td>['de (1)']</td>\n",
              "    </tr>\n",
              "    <tr>\n",
              "      <th>3</th>\n",
              "      <td>3dXC1YPbnQPsfHPVkm1ipj</td>\n",
              "      <td>Christopher Martin</td>\n",
              "      <td>249233.0</td>\n",
              "      <td>52</td>\n",
              "      <td>['dancehall', 'lovers rock', 'modern reggae', ...</td>\n",
              "      <td>['at (1)', 'de (1)']</td>\n",
              "    </tr>\n",
              "    <tr>\n",
              "      <th>4</th>\n",
              "      <td>74terC9ol9zMo8rfzhSOiG</td>\n",
              "      <td>Jakob Hellman</td>\n",
              "      <td>21193.0</td>\n",
              "      <td>39</td>\n",
              "      <td>['classic swedish pop', 'norrbotten indie', 's...</td>\n",
              "      <td>['se (6)']</td>\n",
              "    </tr>\n",
              "  </tbody>\n",
              "</table>\n",
              "</div>"
            ],
            "text/plain": [
              "               spotify_id                name  followers  popularity  \\\n",
              "0  48WvrUGoijadXXCsGocwM4           Byklubben     1738.0          24   \n",
              "1  4lDiJcOJ2GLCK6p9q5BgfK            Kontra K  1999676.0          72   \n",
              "2  652XIvIBNGg3C0KIGEJWit               Maxim    34596.0          36   \n",
              "3  3dXC1YPbnQPsfHPVkm1ipj  Christopher Martin   249233.0          52   \n",
              "4  74terC9ol9zMo8rfzhSOiG       Jakob Hellman    21193.0          39   \n",
              "\n",
              "                                              genres  \\\n",
              "0                     ['nordic house', 'russelater']   \n",
              "1             ['christlicher rap', 'german hip hop']   \n",
              "2                                                 []   \n",
              "3  ['dancehall', 'lovers rock', 'modern reggae', ...   \n",
              "4  ['classic swedish pop', 'norrbotten indie', 's...   \n",
              "\n",
              "                                          chart_hits  \n",
              "0                                         ['no (3)']  \n",
              "1  ['at (44)', 'de (111)', 'lu (22)', 'ch (31)', ...  \n",
              "2                                         ['de (1)']  \n",
              "3                               ['at (1)', 'de (1)']  \n",
              "4                                         ['se (6)']  "
            ]
          },
          "execution_count": 4,
          "metadata": {},
          "output_type": "execute_result"
        }
      ],
      "source": [
        "nodes_df.head()"
      ]
    },
    {
      "cell_type": "code",
      "execution_count": 5,
      "metadata": {
        "colab": {
          "base_uri": "https://localhost:8080/",
          "height": 206
        },
        "id": "MxSHW3yLpXCA",
        "outputId": "939d1503-b61f-4e59-a1a6-75f3f6d1e037"
      },
      "outputs": [
        {
          "data": {
            "text/html": [
              "<div>\n",
              "<style scoped>\n",
              "    .dataframe tbody tr th:only-of-type {\n",
              "        vertical-align: middle;\n",
              "    }\n",
              "\n",
              "    .dataframe tbody tr th {\n",
              "        vertical-align: top;\n",
              "    }\n",
              "\n",
              "    .dataframe thead th {\n",
              "        text-align: right;\n",
              "    }\n",
              "</style>\n",
              "<table border=\"1\" class=\"dataframe\">\n",
              "  <thead>\n",
              "    <tr style=\"text-align: right;\">\n",
              "      <th></th>\n",
              "      <th>id_0</th>\n",
              "      <th>id_1</th>\n",
              "    </tr>\n",
              "  </thead>\n",
              "  <tbody>\n",
              "    <tr>\n",
              "      <th>0</th>\n",
              "      <td>76M2Ekj8bG8W7X2nbx2CpF</td>\n",
              "      <td>7sfl4Xt5KmfyDs2T3SVSMK</td>\n",
              "    </tr>\n",
              "    <tr>\n",
              "      <th>1</th>\n",
              "      <td>0hk4xVujcyOr6USD95wcWb</td>\n",
              "      <td>7Do8se3ZoaVqUt3woqqSrD</td>\n",
              "    </tr>\n",
              "    <tr>\n",
              "      <th>2</th>\n",
              "      <td>38jpuy3yt3QIxQ8Fn1HTeJ</td>\n",
              "      <td>4csQIMQm6vI2A2SCVDuM2z</td>\n",
              "    </tr>\n",
              "    <tr>\n",
              "      <th>3</th>\n",
              "      <td>6PvcxssrQ0QaJVaBWHD07l</td>\n",
              "      <td>6UCQYrcJ6wab6gnQ89OJFh</td>\n",
              "    </tr>\n",
              "    <tr>\n",
              "      <th>4</th>\n",
              "      <td>2R1QrQqWuw3IjoP5dXRFjt</td>\n",
              "      <td>4mk1ScvOUkuQzzCZpT6bc0</td>\n",
              "    </tr>\n",
              "  </tbody>\n",
              "</table>\n",
              "</div>"
            ],
            "text/plain": [
              "                     id_0                    id_1\n",
              "0  76M2Ekj8bG8W7X2nbx2CpF  7sfl4Xt5KmfyDs2T3SVSMK\n",
              "1  0hk4xVujcyOr6USD95wcWb  7Do8se3ZoaVqUt3woqqSrD\n",
              "2  38jpuy3yt3QIxQ8Fn1HTeJ  4csQIMQm6vI2A2SCVDuM2z\n",
              "3  6PvcxssrQ0QaJVaBWHD07l  6UCQYrcJ6wab6gnQ89OJFh\n",
              "4  2R1QrQqWuw3IjoP5dXRFjt  4mk1ScvOUkuQzzCZpT6bc0"
            ]
          },
          "execution_count": 5,
          "metadata": {},
          "output_type": "execute_result"
        }
      ],
      "source": [
        "edges_df.head()"
      ]
    }
  ],
  "metadata": {
    "colab": {
      "provenance": []
    },
    "kernelspec": {
      "display_name": "Python 3",
      "name": "python3"
    },
    "language_info": {
      "codemirror_mode": {
        "name": "ipython",
        "version": 3
      },
      "file_extension": ".py",
      "mimetype": "text/x-python",
      "name": "python",
      "nbconvert_exporter": "python",
      "pygments_lexer": "ipython3",
      "version": "3.11.1"
    }
  },
  "nbformat": 4,
  "nbformat_minor": 0
}
